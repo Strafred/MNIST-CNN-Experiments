{
 "cells": [
  {
   "cell_type": "markdown",
   "metadata": {},
   "source": [
    "# Лабораторная работа 3. Свёрточные сети"
   ]
  },
  {
   "cell_type": "markdown",
   "metadata": {},
   "source": [
    "#### Задание 1.\n",
    "Построить свёрточную сеть LeNet-5 и обучить её распознаванию MNIST."
   ]
  },
  {
   "cell_type": "code",
   "execution_count": 31,
   "metadata": {
    "ExecuteTime": {
     "end_time": "2024-08-25T17:40:08.831313200Z",
     "start_time": "2024-08-25T17:40:08.745305200Z"
    }
   },
   "outputs": [],
   "source": [
    "import numpy as np\n",
    "import torch\n",
    "import torch.nn as nn\n",
    "import torchvision\n",
    "import torchvision.transforms as transforms\n",
    "\n",
    "\n",
    "class LeNet5(nn.Module):\n",
    "    def __init__(self, conv_layers, activation_fn, pooling_fn = 'max'):\n",
    "        super().__init__()\n",
    "        \n",
    "        self.activation_fn = activation_fn\n",
    "        self.pooling_fn = pooling_fn\n",
    "\n",
    "        self.conv_layers = nn.Sequential()\n",
    "        in_channels = 1\n",
    "        \n",
    "        for out_channels, kernel_size, padding in conv_layers[:-1]:\n",
    "            self.conv_layers.add_module(\n",
    "                f'conv_{len(self.conv_layers) + 1}',\n",
    "                nn.Conv2d(in_channels, out_channels, kernel_size=kernel_size, padding=padding)\n",
    "            )\n",
    "            self.conv_layers.add_module(f'act_{len(self.conv_layers)}', self.activation_fn)\n",
    "            if self.pooling_fn == 'max':\n",
    "                self.conv_layers.add_module(f'pool_{len(self.conv_layers)}', nn.MaxPool2d(kernel_size=2))\n",
    "            elif self.pooling_fn == 'average':\n",
    "                self.conv_layers.add_module(f'pool_{len(self.conv_layers)}', nn.AvgPool2d(kernel_size=2))\n",
    "            in_channels = out_channels\n",
    "\n",
    "        last_out_channels, last_kernel_size, last_padding = conv_layers[-1]\n",
    "        self.conv_layers.add_module('conv_last', nn.Conv2d(in_channels, last_out_channels, kernel_size=last_kernel_size, padding=last_padding))\n",
    "        self.conv_layers.add_module('act_last', self.activation_fn)\n",
    "\n",
    "        self.num_features = None\n",
    "        self.fc1 = None\n",
    "        self.fc2 = nn.Linear(84, 10)\n",
    "\n",
    "    def forward(self, x):\n",
    "        x = self.conv_layers(x)\n",
    "        \n",
    "        if self.num_features is None:\n",
    "            self.num_features = torch.numel(x) // x.shape[0]\n",
    "            self.fc1 = nn.Linear(self.num_features, 84).to(x.device)\n",
    "        \n",
    "        x = torch.flatten(x, 1)\n",
    "        x = self.fc1(x)\n",
    "        x = self.activation_fn(x)\n",
    "        x = self.fc2(x)\n",
    "        return x"
   ]
  },
  {
   "cell_type": "code",
   "execution_count": 32,
   "outputs": [],
   "source": [
    "class MNISTDataset(torch.utils.data.Dataset):\n",
    "    def __init__(self, data, targets, transform=None):\n",
    "        self.data = data\n",
    "        self.targets = targets\n",
    "        self.transform = transform\n",
    "\n",
    "    def __len__(self):\n",
    "        return len(self.data)\n",
    "\n",
    "    def __getitem__(self, idx):\n",
    "        image = self.data[idx]\n",
    "        label = self.targets[idx]\n",
    "        return image, label"
   ],
   "metadata": {
    "collapsed": false,
    "ExecuteTime": {
     "end_time": "2024-08-25T17:40:08.915934700Z",
     "start_time": "2024-08-25T17:40:08.756097500Z"
    }
   }
  },
  {
   "cell_type": "code",
   "execution_count": 33,
   "outputs": [],
   "source": [
    "def train_model(model, train_dataset, val_dataset, batch_size, num_epochs, optimizer, device):\n",
    "\n",
    "    train_loader = torch.utils.data.DataLoader(dataset=train_dataset,\n",
    "                                               batch_size=batch_size,\n",
    "                                               shuffle=True)\n",
    "    val_loader = torch.utils.data.DataLoader(dataset=val_dataset,\n",
    "                                             batch_size=batch_size,\n",
    "                                             shuffle=False)\n",
    "\n",
    "    model = model.to(device)\n",
    "    loss_fn = nn.CrossEntropyLoss()\n",
    "\n",
    "    for epoch in range(num_epochs):\n",
    "        losses = []\n",
    "\n",
    "        for i, (images, labels) in enumerate(train_loader):\n",
    "            # Move tensors to the configured device\n",
    "            images = images.to(device)\n",
    "            labels = labels.to(device)\n",
    "\n",
    "            # Forward pass\n",
    "            outputs = model(images)\n",
    "            loss = loss_fn(outputs, labels)\n",
    "            losses.append(loss.item())\n",
    "\n",
    "            # Backward and optimize\n",
    "            optimizer.zero_grad()\n",
    "            loss.backward()\n",
    "            optimizer.step()\n",
    "\n",
    "    with torch.no_grad():\n",
    "        accuracies = []\n",
    "\n",
    "        for images, labels in val_loader:\n",
    "            images = images.to(device)\n",
    "            labels = labels.to(device)\n",
    "\n",
    "            outputs = model(images)\n",
    "            predicted = torch.argmax(outputs, 1)\n",
    "            accuracies.append((predicted == labels).sum().item() / len(labels))\n",
    "\n",
    "    print(f'Accuracy on the val dataset: {np.mean(accuracies):.3f}')\n",
    "    return np.mean(accuracies)"
   ],
   "metadata": {
    "collapsed": false,
    "ExecuteTime": {
     "end_time": "2024-08-25T17:40:08.917942100Z",
     "start_time": "2024-08-25T17:40:08.769897100Z"
    }
   }
  },
  {
   "cell_type": "code",
   "execution_count": 34,
   "outputs": [],
   "source": [
    "device = torch.device('cuda' if torch.cuda.is_available() else 'cpu')\n",
    "\n",
    "train_dataset = torchvision.datasets.MNIST(root='data',\n",
    "                                           train=True,\n",
    "                                           transform=transforms.ToTensor(),\n",
    "                                           download=True)\n",
    "\n",
    "test_dataset = torchvision.datasets.MNIST(root='data',\n",
    "                                          train=False,\n",
    "                                          transform=transforms.ToTensor())"
   ],
   "metadata": {
    "collapsed": false,
    "ExecuteTime": {
     "end_time": "2024-08-25T17:40:08.917942100Z",
     "start_time": "2024-08-25T17:40:08.778917800Z"
    }
   }
  },
  {
   "cell_type": "code",
   "execution_count": 35,
   "outputs": [],
   "source": [
    "learning_rate = 0.1\n",
    "momentum = 0.9\n",
    "\n",
    "num_epochs = 20\n",
    "batch_size = 100\n",
    "\n",
    "conv_layers = [\n",
    "    (6, 5, 2),\n",
    "    (16, 5, 0),\n",
    "    (120, 5, 0)\n",
    "]"
   ],
   "metadata": {
    "collapsed": false,
    "ExecuteTime": {
     "end_time": "2024-08-25T17:40:08.918944200Z",
     "start_time": "2024-08-25T17:40:08.824296600Z"
    }
   }
  },
  {
   "cell_type": "code",
   "execution_count": 36,
   "outputs": [
    {
     "name": "stdout",
     "output_type": "stream",
     "text": [
      "Accuracy on the val dataset: 0.991\n"
     ]
    },
    {
     "data": {
      "text/plain": "0.9908000000000001"
     },
     "execution_count": 36,
     "metadata": {},
     "output_type": "execute_result"
    }
   ],
   "source": [
    "model = LeNet5(conv_layers, nn.Tanh(), 'average')\n",
    "optimizer = torch.optim.SGD(model.parameters(), lr=learning_rate, momentum=momentum, nesterov=True)\n",
    "train_model(model, train_dataset, test_dataset, batch_size, num_epochs, optimizer, device)"
   ],
   "metadata": {
    "collapsed": false,
    "ExecuteTime": {
     "end_time": "2024-08-25T17:43:57.059658600Z",
     "start_time": "2024-08-25T17:40:08.837319100Z"
    }
   }
  },
  {
   "cell_type": "markdown",
   "metadata": {},
   "source": [
    "#### Задание 2.\n",
    "Поэкспериментировать с параметрами LeNet-5 и найти оптимальную архитектуру для MNIST.  \n",
    "\n",
    "Параметры для подбора:\n",
    "- количество свёрточных слоев\n",
    "- функция активации (Tanh, ReLU)\n",
    "- способ субдискретизации (Average, Max)\n",
    "- размер фильтров\n",
    "- количество фильтров"
   ]
  },
  {
   "cell_type": "code",
   "execution_count": 37,
   "outputs": [],
   "source": [
    "from sklearn.model_selection import KFold\n",
    "\n",
    "kfold = KFold(n_splits=3, shuffle=True, random_state=42)"
   ],
   "metadata": {
    "collapsed": false,
    "ExecuteTime": {
     "end_time": "2024-08-25T17:43:57.064661100Z",
     "start_time": "2024-08-25T17:43:57.058130500Z"
    }
   }
  },
  {
   "cell_type": "code",
   "execution_count": 38,
   "outputs": [
    {
     "name": "stdout",
     "output_type": "stream",
     "text": [
      "Accuracy on the val dataset: 0.985\n",
      "Accuracy on the val dataset: 0.989\n",
      "Accuracy on the val dataset: 0.988\n",
      "Activation function: Tanh, mean accuracy: 0.987\n",
      "Accuracy on the val dataset: 0.936\n",
      "Accuracy on the val dataset: 0.919\n",
      "Accuracy on the val dataset: 0.941\n",
      "Activation function: ReLU, mean accuracy: 0.932\n"
     ]
    }
   ],
   "source": [
    "for activation_fn in [nn.Tanh(), nn.ReLU()]:\n",
    "    accuracies = []\n",
    "    for train_index, val_index in kfold.split(train_dataset):\n",
    "        val = MNISTDataset(train_dataset.data[val_index].to(dtype=torch.float32).unsqueeze(1), train_dataset.targets[val_index], transforms.ToTensor())\n",
    "        train = MNISTDataset(train_dataset.data[train_index].to(dtype=torch.float32).unsqueeze(1), train_dataset.targets[train_index], transforms.ToTensor())\n",
    "        \n",
    "        model = LeNet5(conv_layers, activation_fn, 'average')\n",
    "        optimizer = torch.optim.SGD(model.parameters(), lr=learning_rate, momentum=momentum, nesterov=True)\n",
    "        acc = train_model(model, train, val, batch_size, num_epochs, optimizer, device)\n",
    "        accuracies.append(acc)\n",
    "    print(f'Activation function: {activation_fn.__class__.__name__}, mean accuracy: {np.mean(accuracies):.3f}')"
   ],
   "metadata": {
    "collapsed": false,
    "ExecuteTime": {
     "end_time": "2024-08-25T17:47:40.351465700Z",
     "start_time": "2024-08-25T17:43:57.065663900Z"
    }
   }
  },
  {
   "cell_type": "code",
   "execution_count": 39,
   "outputs": [],
   "source": [
    "activation_fn = nn.Tanh()"
   ],
   "metadata": {
    "collapsed": false,
    "ExecuteTime": {
     "end_time": "2024-08-25T17:47:40.351465700Z",
     "start_time": "2024-08-25T17:47:40.345447200Z"
    }
   }
  },
  {
   "cell_type": "code",
   "execution_count": 40,
   "outputs": [
    {
     "name": "stdout",
     "output_type": "stream",
     "text": [
      "Accuracy on the val dataset: 0.984\n",
      "Accuracy on the val dataset: 0.976\n",
      "Accuracy on the val dataset: 0.978\n",
      "Pooling function: max, mean accuracy: 0.979\n",
      "Accuracy on the val dataset: 0.988\n",
      "Accuracy on the val dataset: 0.987\n",
      "Accuracy on the val dataset: 0.988\n",
      "Pooling function: average, mean accuracy: 0.987\n"
     ]
    }
   ],
   "source": [
    "for pooling_fn in ['max', 'average']:\n",
    "    accuracies = []\n",
    "    for train_index, val_index in kfold.split(train_dataset):\n",
    "        val = MNISTDataset(train_dataset.data[val_index].to(dtype=torch.float32).unsqueeze(1), train_dataset.targets[val_index], transforms.ToTensor())\n",
    "        train = MNISTDataset(train_dataset.data[train_index].to(dtype=torch.float32).unsqueeze(1), train_dataset.targets[train_index], transforms.ToTensor())\n",
    "        \n",
    "        model = LeNet5(conv_layers, activation_fn, pooling_fn)\n",
    "        optimizer = torch.optim.SGD(model.parameters(), lr=learning_rate, momentum=momentum, nesterov=True)\n",
    "        acc = train_model(model, train, val, batch_size, num_epochs, optimizer, device)\n",
    "        accuracies.append(acc)\n",
    "    print(f'Pooling function: {pooling_fn}, mean accuracy: {np.mean(accuracies):.3f}')"
   ],
   "metadata": {
    "collapsed": false,
    "ExecuteTime": {
     "end_time": "2024-08-25T17:51:33.218167700Z",
     "start_time": "2024-08-25T17:47:40.350472700Z"
    }
   }
  },
  {
   "cell_type": "code",
   "execution_count": 41,
   "outputs": [],
   "source": [
    "pooling_fn = 'average'"
   ],
   "metadata": {
    "collapsed": false,
    "ExecuteTime": {
     "end_time": "2024-08-25T17:51:33.224471Z",
     "start_time": "2024-08-25T17:51:33.222463700Z"
    }
   }
  },
  {
   "cell_type": "code",
   "execution_count": 42,
   "metadata": {
    "ExecuteTime": {
     "end_time": "2024-08-25T17:51:33.268541600Z",
     "start_time": "2024-08-25T17:51:33.249475800Z"
    }
   },
   "outputs": [],
   "source": [
    "conv_layers_variants = [\n",
    "    #kernel size = 3, layers = 2:\n",
    "    [\n",
    "        (32, 3, 0),\n",
    "        (64, 3, 0)\n",
    "    ],\n",
    "    [\n",
    "        (64, 3, 0),\n",
    "        (128, 3, 0)\n",
    "    ],\n",
    "    [\n",
    "        (128, 3, 0),\n",
    "        (256, 3, 0)\n",
    "    ],\n",
    "    [\n",
    "        (256, 3, 0),\n",
    "        (512, 3, 0)\n",
    "    ],\n",
    "    [\n",
    "        (512, 3, 0),\n",
    "        (1024, 3, 0)\n",
    "    ],\n",
    "    \n",
    "    #kernel size = 3, layers = 3:\n",
    "    [\n",
    "        (6, 3, 0),\n",
    "        (16, 3, 0),\n",
    "        (120, 3, 0)\n",
    "    ],\n",
    "    [\n",
    "        (12, 3, 0),\n",
    "        (32, 3, 0),\n",
    "        (160, 3, 0)\n",
    "    ],\n",
    "    [\n",
    "        (18, 3, 0),\n",
    "        (48, 3, 0),\n",
    "        (200, 3, 0)\n",
    "    ],\n",
    "    [\n",
    "        (24, 3, 0),\n",
    "        (64, 3, 0),\n",
    "        (240, 3, 0)\n",
    "    ],\n",
    "    [\n",
    "        (30, 3, 0),\n",
    "        (80, 3, 0),\n",
    "        (280, 3, 0)\n",
    "    ],\n",
    "    \n",
    "    #kernel size = 3 (last = 5), layers = 3:\n",
    "    [\n",
    "        (6, 3, 0),\n",
    "        (16, 3, 0),\n",
    "        (120, 5, 0)\n",
    "    ],\n",
    "    [\n",
    "        (12, 3, 0),\n",
    "        (32, 3, 0),\n",
    "        (160, 5, 0)\n",
    "    ],\n",
    "    [\n",
    "        (18, 3, 0),\n",
    "        (48, 3, 0),\n",
    "        (200, 5, 0)\n",
    "    ],\n",
    "    [\n",
    "        (24, 3, 0),\n",
    "        (64, 3, 0),\n",
    "        (240, 5, 0)\n",
    "    ],\n",
    "    [\n",
    "        (30, 3, 0),\n",
    "        (80, 3, 0),\n",
    "        (280, 5, 0)\n",
    "    ],\n",
    "    \n",
    "    #kernel size = 3, layers = 4:\n",
    "    [\n",
    "        (6, 3, 1),\n",
    "        (16, 3, 1),\n",
    "        (32, 3, 1),\n",
    "        (120, 3, 0)\n",
    "    ],\n",
    "    [\n",
    "        (12, 3, 1),\n",
    "        (32, 3, 1),\n",
    "        (64, 3, 1),\n",
    "        (160, 3, 0)\n",
    "    ],\n",
    "    [\n",
    "        (18, 3, 1),\n",
    "        (48, 3, 1),\n",
    "        (96, 3, 1),\n",
    "        (200, 3, 0)\n",
    "    ],\n",
    "    [\n",
    "        (24, 3, 1),\n",
    "        (64, 3, 1),\n",
    "        (128, 3, 1),\n",
    "        (240, 3, 0)\n",
    "    ],\n",
    "    [\n",
    "        (30, 3, 1),\n",
    "        (80, 3, 1),\n",
    "        (160, 3, 1),\n",
    "        (280, 3, 0)\n",
    "    ],\n",
    "    \n",
    "    #kernel size = 5, layers = 2:\n",
    "    [\n",
    "        (32, 5, 0),\n",
    "        (64, 5, 0)\n",
    "    ],\n",
    "    [\n",
    "        (64, 5, 0),\n",
    "        (128, 5, 0)\n",
    "    ],\n",
    "    [\n",
    "        (128, 5, 0),\n",
    "        (256, 5, 0)\n",
    "    ],\n",
    "    [\n",
    "        (256, 5, 0),\n",
    "        (512, 5, 0)\n",
    "    ],\n",
    "    [\n",
    "        (512, 5, 0),\n",
    "        (1024, 5, 0)\n",
    "    ],\n",
    "    \n",
    "    #kernel size = 5, layers = 3:\n",
    "    [\n",
    "        (6, 5, 2),\n",
    "        (16, 5, 0),\n",
    "        (120, 5, 0)\n",
    "    ],\n",
    "    [\n",
    "        (12, 5, 2),\n",
    "        (32, 5, 0),\n",
    "        (160, 5, 0)\n",
    "    ],\n",
    "    [\n",
    "        (18, 5, 2),\n",
    "        (48, 5, 0),\n",
    "        (200, 5, 0)\n",
    "    ],\n",
    "    [\n",
    "        (24, 5, 2),\n",
    "        (64, 5, 0),\n",
    "        (240, 5, 0)\n",
    "    ],\n",
    "    [\n",
    "        (30, 5, 2),\n",
    "        (80, 5, 0),\n",
    "        (280, 5, 0)\n",
    "    ],\n",
    "    \n",
    "    #kernel size = 5 (last = 3), layers = 4:\n",
    "    [\n",
    "        (6, 5, 2),\n",
    "        (16, 5, 2),\n",
    "        (32, 5, 2),\n",
    "        (120, 3, 0)\n",
    "    ],\n",
    "    [\n",
    "        (12, 5, 2),\n",
    "        (32, 5, 2),\n",
    "        (64, 5, 2),\n",
    "        (160, 3, 0)\n",
    "    ],\n",
    "    [\n",
    "        (18, 5, 2),\n",
    "        (48, 5, 2),\n",
    "        (96, 5, 2),\n",
    "        (200, 3, 0)\n",
    "    ],\n",
    "    [\n",
    "        (24, 5, 2),\n",
    "        (64, 5, 2),\n",
    "        (128, 5, 2),\n",
    "        (240, 3, 0)\n",
    "    ],\n",
    "    [\n",
    "        (30, 5, 2),\n",
    "        (80, 5, 2),\n",
    "        (160, 5, 2),\n",
    "        (280, 3, 0)\n",
    "    ],\n",
    "    \n",
    "    #kernel size = 7, layers = 2:\n",
    "    [\n",
    "        (32, 7, 0),\n",
    "        (64, 7, 0)\n",
    "    ],\n",
    "    [\n",
    "        (64, 7, 0),\n",
    "        (128, 7, 0)\n",
    "    ],\n",
    "    [\n",
    "        (128, 7, 0),\n",
    "        (256, 7, 0)\n",
    "    ],\n",
    "    [\n",
    "        (256, 7, 0),\n",
    "        (512, 7, 0)\n",
    "    ],\n",
    "    [\n",
    "        (512, 7, 0),\n",
    "        (1024, 7, 0)\n",
    "    ],\n",
    "    \n",
    "    #kernel size = 7, layers = 3, last without padding:\n",
    "    [\n",
    "        (6, 7, 3),\n",
    "        (16, 7, 3),\n",
    "        (120, 7, 0)\n",
    "    ],\n",
    "    [\n",
    "        (12, 7, 3),\n",
    "        (32, 7, 3),\n",
    "        (160, 7, 0)\n",
    "    ],\n",
    "    [\n",
    "        (18, 7, 3),\n",
    "        (48, 7, 3),\n",
    "        (200, 7, 0)\n",
    "    ],\n",
    "    [\n",
    "        (24, 7, 3),\n",
    "        (64, 7, 3),\n",
    "        (240, 7, 0)\n",
    "    ],\n",
    "    [\n",
    "        (30, 7, 3),\n",
    "        (80, 7, 3),\n",
    "        (280, 7, 0)\n",
    "    ],\n",
    "    \n",
    "    #kernel size = 7, layers = 3, last with padding:\n",
    "    [\n",
    "        (6, 7, 3),\n",
    "        (16, 7, 3),\n",
    "        (120, 7, 3)\n",
    "    ],\n",
    "    [\n",
    "        (12, 7, 3),\n",
    "        (32, 7, 3),\n",
    "        (160, 7, 3)\n",
    "    ],\n",
    "    [\n",
    "        (18, 7, 3),\n",
    "        (48, 7, 3),\n",
    "        (200, 7, 3)\n",
    "    ],\n",
    "    [\n",
    "        (24, 7, 3),\n",
    "        (64, 7, 3),\n",
    "        (240, 7, 3)\n",
    "    ],\n",
    "    [\n",
    "        (30, 7, 3),\n",
    "        (80, 7, 3),\n",
    "        (280, 7, 3)\n",
    "    ],\n",
    "    \n",
    "    #kernel size = 7 (last = 3), layers = 4:\n",
    "    [\n",
    "        (6, 7, 3),\n",
    "        (16, 7, 3),\n",
    "        (32, 7, 3),\n",
    "        (120, 3, 0)\n",
    "    ],\n",
    "    [\n",
    "        (12, 7, 3),\n",
    "        (32, 7, 3),\n",
    "        (64, 7, 3),\n",
    "        (160, 3, 0)\n",
    "    ],\n",
    "    [\n",
    "        (18, 7, 3),\n",
    "        (48, 7, 3),\n",
    "        (96, 7, 3),\n",
    "        (200, 3, 0)\n",
    "    ],\n",
    "    [\n",
    "        (24, 7, 3),\n",
    "        (64, 7, 3),\n",
    "        (128, 7, 3),\n",
    "        (240, 3, 0)\n",
    "    ],\n",
    "    [\n",
    "        (30, 7, 3),\n",
    "        (80, 7, 3),\n",
    "        (160, 7, 3),\n",
    "        (280, 3, 0)\n",
    "    ],\n",
    "]"
   ]
  },
  {
   "cell_type": "code",
   "execution_count": 43,
   "outputs": [
    {
     "data": {
      "text/plain": "55"
     },
     "execution_count": 43,
     "metadata": {},
     "output_type": "execute_result"
    }
   ],
   "source": [
    "len(conv_layers_variants)"
   ],
   "metadata": {
    "collapsed": false,
    "ExecuteTime": {
     "end_time": "2024-08-25T17:51:33.269517900Z",
     "start_time": "2024-08-25T17:51:33.259955100Z"
    }
   }
  },
  {
   "cell_type": "code",
   "execution_count": 44,
   "outputs": [],
   "source": [
    "import pandas as pd\n",
    "\n",
    "conv_layers_stats_df = pd.DataFrame(data=None, columns=['conv_layers', 'accuracy'])\n",
    "conv_layers_stats_df_index = 0\n",
    "\n",
    "def append_conv_layers_stats(conv_layers, accuracy):\n",
    "    global conv_layers_stats_df_index\n",
    "    conv_layers_stats_df.loc[conv_layers_stats_df_index] = [conv_layers, accuracy]\n",
    "    conv_layers_stats_df_index += 1"
   ],
   "metadata": {
    "collapsed": false,
    "ExecuteTime": {
     "end_time": "2024-08-25T17:51:33.928543100Z",
     "start_time": "2024-08-25T17:51:33.270516200Z"
    }
   }
  },
  {
   "cell_type": "code",
   "execution_count": 45,
   "outputs": [
    {
     "name": "stdout",
     "output_type": "stream",
     "text": [
      "Accuracy on the val dataset: 0.976\n",
      "Accuracy on the val dataset: 0.978\n",
      "Accuracy on the val dataset: 0.979\n",
      "Conv layers: [(32, 3, 0), (64, 3, 0)], mean accuracy: 0.978\n",
      "Accuracy on the val dataset: 0.981\n",
      "Accuracy on the val dataset: 0.983\n",
      "Accuracy on the val dataset: 0.981\n",
      "Conv layers: [(64, 3, 0), (128, 3, 0)], mean accuracy: 0.981\n",
      "Accuracy on the val dataset: 0.985\n",
      "Accuracy on the val dataset: 0.986\n",
      "Accuracy on the val dataset: 0.986\n",
      "Conv layers: [(128, 3, 0), (256, 3, 0)], mean accuracy: 0.986\n",
      "Accuracy on the val dataset: 0.986\n",
      "Accuracy on the val dataset: 0.988\n",
      "Accuracy on the val dataset: 0.987\n",
      "Conv layers: [(256, 3, 0), (512, 3, 0)], mean accuracy: 0.987\n",
      "Accuracy on the val dataset: 0.987\n",
      "Accuracy on the val dataset: 0.987\n",
      "Accuracy on the val dataset: 0.987\n",
      "Conv layers: [(512, 3, 0), (1024, 3, 0)], mean accuracy: 0.987\n",
      "Accuracy on the val dataset: 0.987\n",
      "Accuracy on the val dataset: 0.987\n",
      "Accuracy on the val dataset: 0.987\n",
      "Conv layers: [(6, 3, 0), (16, 3, 0), (120, 3, 0)], mean accuracy: 0.987\n",
      "Accuracy on the val dataset: 0.989\n",
      "Accuracy on the val dataset: 0.989\n",
      "Accuracy on the val dataset: 0.988\n",
      "Conv layers: [(12, 3, 0), (32, 3, 0), (160, 3, 0)], mean accuracy: 0.989\n",
      "Accuracy on the val dataset: 0.989\n",
      "Accuracy on the val dataset: 0.989\n",
      "Accuracy on the val dataset: 0.991\n",
      "Conv layers: [(18, 3, 0), (48, 3, 0), (200, 3, 0)], mean accuracy: 0.990\n",
      "Accuracy on the val dataset: 0.991\n",
      "Accuracy on the val dataset: 0.990\n",
      "Accuracy on the val dataset: 0.990\n",
      "Conv layers: [(24, 3, 0), (64, 3, 0), (240, 3, 0)], mean accuracy: 0.990\n",
      "Accuracy on the val dataset: 0.991\n",
      "Accuracy on the val dataset: 0.991\n",
      "Accuracy on the val dataset: 0.991\n",
      "Conv layers: [(30, 3, 0), (80, 3, 0), (280, 3, 0)], mean accuracy: 0.991\n",
      "Accuracy on the val dataset: 0.989\n",
      "Accuracy on the val dataset: 0.989\n",
      "Accuracy on the val dataset: 0.988\n",
      "Conv layers: [(6, 3, 0), (16, 3, 0), (120, 5, 0)], mean accuracy: 0.988\n",
      "Accuracy on the val dataset: 0.990\n",
      "Accuracy on the val dataset: 0.990\n",
      "Accuracy on the val dataset: 0.989\n",
      "Conv layers: [(12, 3, 0), (32, 3, 0), (160, 5, 0)], mean accuracy: 0.989\n",
      "Accuracy on the val dataset: 0.990\n",
      "Accuracy on the val dataset: 0.990\n",
      "Accuracy on the val dataset: 0.991\n",
      "Conv layers: [(18, 3, 0), (48, 3, 0), (200, 5, 0)], mean accuracy: 0.990\n",
      "Accuracy on the val dataset: 0.990\n",
      "Accuracy on the val dataset: 0.990\n",
      "Accuracy on the val dataset: 0.990\n",
      "Conv layers: [(24, 3, 0), (64, 3, 0), (240, 5, 0)], mean accuracy: 0.990\n",
      "Accuracy on the val dataset: 0.991\n",
      "Accuracy on the val dataset: 0.991\n",
      "Accuracy on the val dataset: 0.991\n",
      "Conv layers: [(30, 3, 0), (80, 3, 0), (280, 5, 0)], mean accuracy: 0.991\n",
      "Accuracy on the val dataset: 0.988\n",
      "Accuracy on the val dataset: 0.988\n",
      "Accuracy on the val dataset: 0.985\n",
      "Conv layers: [(6, 3, 1), (16, 3, 1), (32, 3, 1), (120, 3, 0)], mean accuracy: 0.987\n",
      "Accuracy on the val dataset: 0.988\n",
      "Accuracy on the val dataset: 0.990\n",
      "Accuracy on the val dataset: 0.990\n",
      "Conv layers: [(12, 3, 1), (32, 3, 1), (64, 3, 1), (160, 3, 0)], mean accuracy: 0.990\n",
      "Accuracy on the val dataset: 0.991\n",
      "Accuracy on the val dataset: 0.990\n",
      "Accuracy on the val dataset: 0.991\n",
      "Conv layers: [(18, 3, 1), (48, 3, 1), (96, 3, 1), (200, 3, 0)], mean accuracy: 0.991\n",
      "Accuracy on the val dataset: 0.991\n",
      "Accuracy on the val dataset: 0.991\n",
      "Accuracy on the val dataset: 0.991\n",
      "Conv layers: [(24, 3, 1), (64, 3, 1), (128, 3, 1), (240, 3, 0)], mean accuracy: 0.991\n",
      "Accuracy on the val dataset: 0.992\n",
      "Accuracy on the val dataset: 0.991\n",
      "Accuracy on the val dataset: 0.991\n",
      "Conv layers: [(30, 3, 1), (80, 3, 1), (160, 3, 1), (280, 3, 0)], mean accuracy: 0.991\n",
      "Accuracy on the val dataset: 0.983\n",
      "Accuracy on the val dataset: 0.985\n",
      "Accuracy on the val dataset: 0.984\n",
      "Conv layers: [(32, 5, 0), (64, 5, 0)], mean accuracy: 0.984\n",
      "Accuracy on the val dataset: 0.987\n",
      "Accuracy on the val dataset: 0.988\n",
      "Accuracy on the val dataset: 0.987\n",
      "Conv layers: [(64, 5, 0), (128, 5, 0)], mean accuracy: 0.987\n"
     ]
    },
    {
     "name": "stderr",
     "output_type": "stream",
     "text": [
      "C:\\Users\\bred7\\anaconda3\\envs\\vyatsu_environment\\Lib\\site-packages\\torch\\autograd\\graph.py:744: UserWarning: Plan failed with a cudnnException: CUDNN_BACKEND_EXECUTION_PLAN_DESCRIPTOR: cudnnFinalize Descriptor Failed cudnn_status: CUDNN_STATUS_NOT_SUPPORTED (Triggered internally at ..\\aten\\src\\ATen\\native\\cudnn\\Conv_v8.cpp:919.)\n",
      "  return Variable._execution_engine.run_backward(  # Calls into the C++ engine to run the backward pass\n"
     ]
    },
    {
     "name": "stdout",
     "output_type": "stream",
     "text": [
      "Accuracy on the val dataset: 0.988\n",
      "Accuracy on the val dataset: 0.989\n",
      "Accuracy on the val dataset: 0.988\n",
      "Conv layers: [(128, 5, 0), (256, 5, 0)], mean accuracy: 0.988\n"
     ]
    },
    {
     "name": "stderr",
     "output_type": "stream",
     "text": [
      "C:\\Users\\bred7\\anaconda3\\envs\\vyatsu_environment\\Lib\\site-packages\\torch\\autograd\\graph.py:744: UserWarning: Plan failed with a cudnnException: CUDNN_BACKEND_EXECUTION_PLAN_DESCRIPTOR: cudnnFinalize Descriptor Failed cudnn_status: CUDNN_STATUS_NOT_SUPPORTED (Triggered internally at ..\\aten\\src\\ATen\\native\\cudnn\\Conv_v8.cpp:919.)\n",
      "  return Variable._execution_engine.run_backward(  # Calls into the C++ engine to run the backward pass\n"
     ]
    },
    {
     "name": "stdout",
     "output_type": "stream",
     "text": [
      "Accuracy on the val dataset: 0.989\n",
      "Accuracy on the val dataset: 0.989\n",
      "Accuracy on the val dataset: 0.988\n",
      "Conv layers: [(256, 5, 0), (512, 5, 0)], mean accuracy: 0.989\n",
      "Accuracy on the val dataset: 0.989\n",
      "Accuracy on the val dataset: 0.989\n",
      "Accuracy on the val dataset: 0.988\n",
      "Conv layers: [(512, 5, 0), (1024, 5, 0)], mean accuracy: 0.988\n",
      "Accuracy on the val dataset: 0.988\n",
      "Accuracy on the val dataset: 0.987\n",
      "Accuracy on the val dataset: 0.987\n",
      "Conv layers: [(6, 5, 2), (16, 5, 0), (120, 5, 0)], mean accuracy: 0.988\n",
      "Accuracy on the val dataset: 0.989\n",
      "Accuracy on the val dataset: 0.990\n",
      "Accuracy on the val dataset: 0.990\n",
      "Conv layers: [(12, 5, 2), (32, 5, 0), (160, 5, 0)], mean accuracy: 0.989\n",
      "Accuracy on the val dataset: 0.990\n",
      "Accuracy on the val dataset: 0.990\n",
      "Accuracy on the val dataset: 0.991\n",
      "Conv layers: [(18, 5, 2), (48, 5, 0), (200, 5, 0)], mean accuracy: 0.990\n",
      "Accuracy on the val dataset: 0.990\n",
      "Accuracy on the val dataset: 0.991\n",
      "Accuracy on the val dataset: 0.990\n",
      "Conv layers: [(24, 5, 2), (64, 5, 0), (240, 5, 0)], mean accuracy: 0.990\n",
      "Accuracy on the val dataset: 0.990\n",
      "Accuracy on the val dataset: 0.991\n",
      "Accuracy on the val dataset: 0.991\n",
      "Conv layers: [(30, 5, 2), (80, 5, 0), (280, 5, 0)], mean accuracy: 0.991\n",
      "Accuracy on the val dataset: 0.988\n",
      "Accuracy on the val dataset: 0.987\n",
      "Accuracy on the val dataset: 0.988\n",
      "Conv layers: [(6, 5, 2), (16, 5, 2), (32, 5, 2), (120, 3, 0)], mean accuracy: 0.988\n",
      "Accuracy on the val dataset: 0.990\n",
      "Accuracy on the val dataset: 0.991\n",
      "Accuracy on the val dataset: 0.990\n",
      "Conv layers: [(12, 5, 2), (32, 5, 2), (64, 5, 2), (160, 3, 0)], mean accuracy: 0.990\n",
      "Accuracy on the val dataset: 0.989\n",
      "Accuracy on the val dataset: 0.991\n",
      "Accuracy on the val dataset: 0.991\n",
      "Conv layers: [(18, 5, 2), (48, 5, 2), (96, 5, 2), (200, 3, 0)], mean accuracy: 0.991\n",
      "Accuracy on the val dataset: 0.991\n",
      "Accuracy on the val dataset: 0.991\n",
      "Accuracy on the val dataset: 0.991\n",
      "Conv layers: [(24, 5, 2), (64, 5, 2), (128, 5, 2), (240, 3, 0)], mean accuracy: 0.991\n",
      "Accuracy on the val dataset: 0.991\n",
      "Accuracy on the val dataset: 0.991\n",
      "Accuracy on the val dataset: 0.991\n",
      "Conv layers: [(30, 5, 2), (80, 5, 2), (160, 5, 2), (280, 3, 0)], mean accuracy: 0.991\n"
     ]
    },
    {
     "name": "stderr",
     "output_type": "stream",
     "text": [
      "C:\\Users\\bred7\\anaconda3\\envs\\vyatsu_environment\\Lib\\site-packages\\torch\\nn\\modules\\conv.py:456: UserWarning: Plan failed with a cudnnException: CUDNN_BACKEND_EXECUTION_PLAN_DESCRIPTOR: cudnnFinalize Descriptor Failed cudnn_status: CUDNN_STATUS_NOT_SUPPORTED (Triggered internally at ..\\aten\\src\\ATen\\native\\cudnn\\Conv_v8.cpp:919.)\n",
      "  return F.conv2d(input, weight, bias, self.stride,\n"
     ]
    },
    {
     "name": "stdout",
     "output_type": "stream",
     "text": [
      "Accuracy on the val dataset: 0.980\n",
      "Accuracy on the val dataset: 0.977\n",
      "Accuracy on the val dataset: 0.979\n",
      "Conv layers: [(32, 7, 0), (64, 7, 0)], mean accuracy: 0.979\n",
      "Accuracy on the val dataset: 0.983\n",
      "Accuracy on the val dataset: 0.984\n",
      "Accuracy on the val dataset: 0.983\n",
      "Conv layers: [(64, 7, 0), (128, 7, 0)], mean accuracy: 0.983\n"
     ]
    },
    {
     "name": "stderr",
     "output_type": "stream",
     "text": [
      "C:\\Users\\bred7\\anaconda3\\envs\\vyatsu_environment\\Lib\\site-packages\\torch\\nn\\modules\\conv.py:456: UserWarning: Plan failed with a cudnnException: CUDNN_BACKEND_EXECUTION_PLAN_DESCRIPTOR: cudnnFinalize Descriptor Failed cudnn_status: CUDNN_STATUS_NOT_SUPPORTED (Triggered internally at ..\\aten\\src\\ATen\\native\\cudnn\\Conv_v8.cpp:919.)\n",
      "  return F.conv2d(input, weight, bias, self.stride,\n"
     ]
    },
    {
     "name": "stdout",
     "output_type": "stream",
     "text": [
      "Accuracy on the val dataset: 0.987\n",
      "Accuracy on the val dataset: 0.987\n",
      "Accuracy on the val dataset: 0.986\n",
      "Conv layers: [(128, 7, 0), (256, 7, 0)], mean accuracy: 0.987\n"
     ]
    },
    {
     "name": "stderr",
     "output_type": "stream",
     "text": [
      "C:\\Users\\bred7\\anaconda3\\envs\\vyatsu_environment\\Lib\\site-packages\\torch\\nn\\modules\\conv.py:456: UserWarning: Plan failed with a cudnnException: CUDNN_BACKEND_EXECUTION_PLAN_DESCRIPTOR: cudnnFinalize Descriptor Failed cudnn_status: CUDNN_STATUS_NOT_SUPPORTED (Triggered internally at ..\\aten\\src\\ATen\\native\\cudnn\\Conv_v8.cpp:919.)\n",
      "  return F.conv2d(input, weight, bias, self.stride,\n"
     ]
    },
    {
     "name": "stdout",
     "output_type": "stream",
     "text": [
      "Accuracy on the val dataset: 0.988\n",
      "Accuracy on the val dataset: 0.988\n",
      "Accuracy on the val dataset: 0.987\n",
      "Conv layers: [(256, 7, 0), (512, 7, 0)], mean accuracy: 0.988\n"
     ]
    },
    {
     "name": "stderr",
     "output_type": "stream",
     "text": [
      "C:\\Users\\bred7\\anaconda3\\envs\\vyatsu_environment\\Lib\\site-packages\\torch\\nn\\modules\\conv.py:456: UserWarning: Plan failed with a cudnnException: CUDNN_BACKEND_EXECUTION_PLAN_DESCRIPTOR: cudnnFinalize Descriptor Failed cudnn_status: CUDNN_STATUS_NOT_SUPPORTED (Triggered internally at ..\\aten\\src\\ATen\\native\\cudnn\\Conv_v8.cpp:919.)\n",
      "  return F.conv2d(input, weight, bias, self.stride,\n"
     ]
    },
    {
     "ename": "KeyboardInterrupt",
     "evalue": "",
     "output_type": "error",
     "traceback": [
      "\u001B[1;31m---------------------------------------------------------------------------\u001B[0m",
      "\u001B[1;31mKeyboardInterrupt\u001B[0m                         Traceback (most recent call last)",
      "Cell \u001B[1;32mIn[45], line 9\u001B[0m\n\u001B[0;32m      7\u001B[0m     model \u001B[38;5;241m=\u001B[39m LeNet5(conv_layers, activation_fn, pooling_fn)\n\u001B[0;32m      8\u001B[0m     optimizer \u001B[38;5;241m=\u001B[39m torch\u001B[38;5;241m.\u001B[39moptim\u001B[38;5;241m.\u001B[39mSGD(model\u001B[38;5;241m.\u001B[39mparameters(), lr\u001B[38;5;241m=\u001B[39mlearning_rate, momentum\u001B[38;5;241m=\u001B[39mmomentum, nesterov\u001B[38;5;241m=\u001B[39m\u001B[38;5;28;01mTrue\u001B[39;00m)\n\u001B[1;32m----> 9\u001B[0m     acc \u001B[38;5;241m=\u001B[39m train_model(model, train, val, batch_size, num_epochs, optimizer, device)\n\u001B[0;32m     10\u001B[0m     accuracies\u001B[38;5;241m.\u001B[39mappend(acc)\n\u001B[0;32m     11\u001B[0m \u001B[38;5;28mprint\u001B[39m(\u001B[38;5;124mf\u001B[39m\u001B[38;5;124m'\u001B[39m\u001B[38;5;124mConv layers: \u001B[39m\u001B[38;5;132;01m{\u001B[39;00mconv_layers\u001B[38;5;132;01m}\u001B[39;00m\u001B[38;5;124m, mean accuracy: \u001B[39m\u001B[38;5;132;01m{\u001B[39;00mnp\u001B[38;5;241m.\u001B[39mmean(accuracies)\u001B[38;5;132;01m:\u001B[39;00m\u001B[38;5;124m.3f\u001B[39m\u001B[38;5;132;01m}\u001B[39;00m\u001B[38;5;124m'\u001B[39m)\n",
      "Cell \u001B[1;32mIn[33], line 18\u001B[0m, in \u001B[0;36mtrain_model\u001B[1;34m(model, train_dataset, val_dataset, batch_size, num_epochs, optimizer, device)\u001B[0m\n\u001B[0;32m     14\u001B[0m losses \u001B[38;5;241m=\u001B[39m []\n\u001B[0;32m     16\u001B[0m \u001B[38;5;28;01mfor\u001B[39;00m i, (images, labels) \u001B[38;5;129;01min\u001B[39;00m \u001B[38;5;28menumerate\u001B[39m(train_loader):\n\u001B[0;32m     17\u001B[0m     \u001B[38;5;66;03m# Move tensors to the configured device\u001B[39;00m\n\u001B[1;32m---> 18\u001B[0m     images \u001B[38;5;241m=\u001B[39m images\u001B[38;5;241m.\u001B[39mto(device)\n\u001B[0;32m     19\u001B[0m     labels \u001B[38;5;241m=\u001B[39m labels\u001B[38;5;241m.\u001B[39mto(device)\n\u001B[0;32m     21\u001B[0m     \u001B[38;5;66;03m# Forward pass\u001B[39;00m\n",
      "\u001B[1;31mKeyboardInterrupt\u001B[0m: "
     ]
    }
   ],
   "source": [
    "for conv_layers in conv_layers_variants:\n",
    "    accuracies = []\n",
    "    for train_index, val_index in kfold.split(train_dataset):\n",
    "        val = MNISTDataset(train_dataset.data[val_index].to(dtype=torch.float32).unsqueeze(1), train_dataset.targets[val_index], transforms.ToTensor())\n",
    "        train = MNISTDataset(train_dataset.data[train_index].to(dtype=torch.float32).unsqueeze(1), train_dataset.targets[train_index], transforms.ToTensor())\n",
    "        \n",
    "        model = LeNet5(conv_layers, activation_fn, pooling_fn)\n",
    "        optimizer = torch.optim.SGD(model.parameters(), lr=learning_rate, momentum=momentum, nesterov=True)\n",
    "        acc = train_model(model, train, val, batch_size, num_epochs, optimizer, device)\n",
    "        accuracies.append(acc)\n",
    "    print(f'Conv layers: {conv_layers}, mean accuracy: {np.mean(accuracies):.3f}')\n",
    "    append_conv_layers_stats(conv_layers, np.mean(accuracies))"
   ],
   "metadata": {
    "collapsed": false,
    "ExecuteTime": {
     "end_time": "2024-08-25T23:10:06.580180500Z",
     "start_time": "2024-08-25T17:51:33.935542700Z"
    }
   }
  },
  {
   "cell_type": "code",
   "execution_count": 46,
   "outputs": [],
   "source": [
    "conv_layers_variants = [\n",
    "    #kernel size = 7, layers = 3, last without padding:\n",
    "    [\n",
    "        (6, 7, 3),\n",
    "        (16, 7, 3),\n",
    "        (120, 7, 0)\n",
    "    ],\n",
    "    [\n",
    "        (12, 7, 3),\n",
    "        (32, 7, 3),\n",
    "        (160, 7, 0)\n",
    "    ],\n",
    "    [\n",
    "        (18, 7, 3),\n",
    "        (48, 7, 3),\n",
    "        (200, 7, 0)\n",
    "    ],\n",
    "    [\n",
    "        (24, 7, 3),\n",
    "        (64, 7, 3),\n",
    "        (240, 7, 0)\n",
    "    ],\n",
    "    [\n",
    "        (30, 7, 3),\n",
    "        (80, 7, 3),\n",
    "        (280, 7, 0)\n",
    "    ],\n",
    "\n",
    "    #kernel size = 7, layers = 3, last with padding:\n",
    "    [\n",
    "        (6, 7, 3),\n",
    "        (16, 7, 3),\n",
    "        (120, 7, 3)\n",
    "    ],\n",
    "    [\n",
    "        (12, 7, 3),\n",
    "        (32, 7, 3),\n",
    "        (160, 7, 3)\n",
    "    ],\n",
    "    [\n",
    "        (18, 7, 3),\n",
    "        (48, 7, 3),\n",
    "        (200, 7, 3)\n",
    "    ],\n",
    "    [\n",
    "        (24, 7, 3),\n",
    "        (64, 7, 3),\n",
    "        (240, 7, 3)\n",
    "    ],\n",
    "    [\n",
    "        (30, 7, 3),\n",
    "        (80, 7, 3),\n",
    "        (280, 7, 3)\n",
    "    ],\n",
    "\n",
    "    #kernel size = 7 (last = 3), layers = 4:\n",
    "    [\n",
    "        (6, 7, 3),\n",
    "        (16, 7, 3),\n",
    "        (32, 7, 3),\n",
    "        (120, 3, 0)\n",
    "    ],\n",
    "    [\n",
    "        (12, 7, 3),\n",
    "        (32, 7, 3),\n",
    "        (64, 7, 3),\n",
    "        (160, 3, 0)\n",
    "    ],\n",
    "    [\n",
    "        (18, 7, 3),\n",
    "        (48, 7, 3),\n",
    "        (96, 7, 3),\n",
    "        (200, 3, 0)\n",
    "    ],\n",
    "    [\n",
    "        (24, 7, 3),\n",
    "        (64, 7, 3),\n",
    "        (128, 7, 3),\n",
    "        (240, 3, 0)\n",
    "    ],\n",
    "    [\n",
    "        (30, 7, 3),\n",
    "        (80, 7, 3),\n",
    "        (160, 7, 3),\n",
    "        (280, 3, 0)\n",
    "    ],\n",
    "]"
   ],
   "metadata": {
    "collapsed": false,
    "ExecuteTime": {
     "end_time": "2024-08-25T23:13:22.763666400Z",
     "start_time": "2024-08-25T23:13:22.697130800Z"
    }
   }
  },
  {
   "cell_type": "code",
   "execution_count": 47,
   "outputs": [
    {
     "name": "stderr",
     "output_type": "stream",
     "text": [
      "C:\\Users\\bred7\\anaconda3\\envs\\vyatsu_environment\\Lib\\site-packages\\torch\\autograd\\graph.py:744: UserWarning: Plan failed with a cudnnException: CUDNN_BACKEND_EXECUTION_PLAN_DESCRIPTOR: cudnnFinalize Descriptor Failed cudnn_status: CUDNN_STATUS_NOT_SUPPORTED (Triggered internally at ..\\aten\\src\\ATen\\native\\cudnn\\Conv_v8.cpp:919.)\n",
      "  return Variable._execution_engine.run_backward(  # Calls into the C++ engine to run the backward pass\n"
     ]
    },
    {
     "name": "stdout",
     "output_type": "stream",
     "text": [
      "Accuracy on the val dataset: 0.986\n",
      "Accuracy on the val dataset: 0.987\n",
      "Accuracy on the val dataset: 0.986\n",
      "Conv layers: [(6, 7, 3), (16, 7, 3), (120, 7, 0)], mean accuracy: 0.986\n"
     ]
    },
    {
     "name": "stderr",
     "output_type": "stream",
     "text": [
      "C:\\Users\\bred7\\anaconda3\\envs\\vyatsu_environment\\Lib\\site-packages\\torch\\nn\\modules\\conv.py:456: UserWarning: Plan failed with a cudnnException: CUDNN_BACKEND_EXECUTION_PLAN_DESCRIPTOR: cudnnFinalize Descriptor Failed cudnn_status: CUDNN_STATUS_NOT_SUPPORTED (Triggered internally at ..\\aten\\src\\ATen\\native\\cudnn\\Conv_v8.cpp:919.)\n",
      "  return F.conv2d(input, weight, bias, self.stride,\n",
      "C:\\Users\\bred7\\anaconda3\\envs\\vyatsu_environment\\Lib\\site-packages\\torch\\autograd\\graph.py:744: UserWarning: Plan failed with a cudnnException: CUDNN_BACKEND_EXECUTION_PLAN_DESCRIPTOR: cudnnFinalize Descriptor Failed cudnn_status: CUDNN_STATUS_NOT_SUPPORTED (Triggered internally at ..\\aten\\src\\ATen\\native\\cudnn\\Conv_v8.cpp:919.)\n",
      "  return Variable._execution_engine.run_backward(  # Calls into the C++ engine to run the backward pass\n"
     ]
    },
    {
     "name": "stdout",
     "output_type": "stream",
     "text": [
      "Accuracy on the val dataset: 0.989\n",
      "Accuracy on the val dataset: 0.989\n",
      "Accuracy on the val dataset: 0.989\n",
      "Conv layers: [(12, 7, 3), (32, 7, 3), (160, 7, 0)], mean accuracy: 0.989\n"
     ]
    },
    {
     "name": "stderr",
     "output_type": "stream",
     "text": [
      "C:\\Users\\bred7\\anaconda3\\envs\\vyatsu_environment\\Lib\\site-packages\\torch\\nn\\modules\\conv.py:456: UserWarning: Plan failed with a cudnnException: CUDNN_BACKEND_EXECUTION_PLAN_DESCRIPTOR: cudnnFinalize Descriptor Failed cudnn_status: CUDNN_STATUS_NOT_SUPPORTED (Triggered internally at ..\\aten\\src\\ATen\\native\\cudnn\\Conv_v8.cpp:919.)\n",
      "  return F.conv2d(input, weight, bias, self.stride,\n",
      "C:\\Users\\bred7\\anaconda3\\envs\\vyatsu_environment\\Lib\\site-packages\\torch\\autograd\\graph.py:744: UserWarning: Plan failed with a cudnnException: CUDNN_BACKEND_EXECUTION_PLAN_DESCRIPTOR: cudnnFinalize Descriptor Failed cudnn_status: CUDNN_STATUS_NOT_SUPPORTED (Triggered internally at ..\\aten\\src\\ATen\\native\\cudnn\\Conv_v8.cpp:919.)\n",
      "  return Variable._execution_engine.run_backward(  # Calls into the C++ engine to run the backward pass\n"
     ]
    },
    {
     "name": "stdout",
     "output_type": "stream",
     "text": [
      "Accuracy on the val dataset: 0.990\n",
      "Accuracy on the val dataset: 0.990\n",
      "Accuracy on the val dataset: 0.989\n",
      "Conv layers: [(18, 7, 3), (48, 7, 3), (200, 7, 0)], mean accuracy: 0.990\n"
     ]
    },
    {
     "name": "stderr",
     "output_type": "stream",
     "text": [
      "C:\\Users\\bred7\\anaconda3\\envs\\vyatsu_environment\\Lib\\site-packages\\torch\\nn\\modules\\conv.py:456: UserWarning: Plan failed with a cudnnException: CUDNN_BACKEND_EXECUTION_PLAN_DESCRIPTOR: cudnnFinalize Descriptor Failed cudnn_status: CUDNN_STATUS_NOT_SUPPORTED (Triggered internally at ..\\aten\\src\\ATen\\native\\cudnn\\Conv_v8.cpp:919.)\n",
      "  return F.conv2d(input, weight, bias, self.stride,\n",
      "C:\\Users\\bred7\\anaconda3\\envs\\vyatsu_environment\\Lib\\site-packages\\torch\\autograd\\graph.py:744: UserWarning: Plan failed with a cudnnException: CUDNN_BACKEND_EXECUTION_PLAN_DESCRIPTOR: cudnnFinalize Descriptor Failed cudnn_status: CUDNN_STATUS_NOT_SUPPORTED (Triggered internally at ..\\aten\\src\\ATen\\native\\cudnn\\Conv_v8.cpp:919.)\n",
      "  return Variable._execution_engine.run_backward(  # Calls into the C++ engine to run the backward pass\n"
     ]
    },
    {
     "name": "stdout",
     "output_type": "stream",
     "text": [
      "Accuracy on the val dataset: 0.989\n",
      "Accuracy on the val dataset: 0.990\n",
      "Accuracy on the val dataset: 0.989\n",
      "Conv layers: [(24, 7, 3), (64, 7, 3), (240, 7, 0)], mean accuracy: 0.990\n"
     ]
    },
    {
     "name": "stderr",
     "output_type": "stream",
     "text": [
      "C:\\Users\\bred7\\anaconda3\\envs\\vyatsu_environment\\Lib\\site-packages\\torch\\nn\\modules\\conv.py:456: UserWarning: Plan failed with a cudnnException: CUDNN_BACKEND_EXECUTION_PLAN_DESCRIPTOR: cudnnFinalize Descriptor Failed cudnn_status: CUDNN_STATUS_NOT_SUPPORTED (Triggered internally at ..\\aten\\src\\ATen\\native\\cudnn\\Conv_v8.cpp:919.)\n",
      "  return F.conv2d(input, weight, bias, self.stride,\n"
     ]
    },
    {
     "name": "stdout",
     "output_type": "stream",
     "text": [
      "Accuracy on the val dataset: 0.989\n",
      "Accuracy on the val dataset: 0.990\n",
      "Accuracy on the val dataset: 0.990\n",
      "Conv layers: [(30, 7, 3), (80, 7, 3), (280, 7, 0)], mean accuracy: 0.990\n",
      "Accuracy on the val dataset: 0.988\n",
      "Accuracy on the val dataset: 0.989\n",
      "Accuracy on the val dataset: 0.987\n",
      "Conv layers: [(6, 7, 3), (16, 7, 3), (120, 7, 3)], mean accuracy: 0.988\n"
     ]
    },
    {
     "name": "stderr",
     "output_type": "stream",
     "text": [
      "C:\\Users\\bred7\\anaconda3\\envs\\vyatsu_environment\\Lib\\site-packages\\torch\\nn\\modules\\conv.py:456: UserWarning: Plan failed with a cudnnException: CUDNN_BACKEND_EXECUTION_PLAN_DESCRIPTOR: cudnnFinalize Descriptor Failed cudnn_status: CUDNN_STATUS_NOT_SUPPORTED (Triggered internally at ..\\aten\\src\\ATen\\native\\cudnn\\Conv_v8.cpp:919.)\n",
      "  return F.conv2d(input, weight, bias, self.stride,\n"
     ]
    },
    {
     "name": "stdout",
     "output_type": "stream",
     "text": [
      "Accuracy on the val dataset: 0.989\n",
      "Accuracy on the val dataset: 0.990\n",
      "Accuracy on the val dataset: 0.990\n",
      "Conv layers: [(12, 7, 3), (32, 7, 3), (160, 7, 3)], mean accuracy: 0.990\n"
     ]
    },
    {
     "name": "stderr",
     "output_type": "stream",
     "text": [
      "C:\\Users\\bred7\\anaconda3\\envs\\vyatsu_environment\\Lib\\site-packages\\torch\\nn\\modules\\conv.py:456: UserWarning: Plan failed with a cudnnException: CUDNN_BACKEND_EXECUTION_PLAN_DESCRIPTOR: cudnnFinalize Descriptor Failed cudnn_status: CUDNN_STATUS_NOT_SUPPORTED (Triggered internally at ..\\aten\\src\\ATen\\native\\cudnn\\Conv_v8.cpp:919.)\n",
      "  return F.conv2d(input, weight, bias, self.stride,\n"
     ]
    },
    {
     "name": "stdout",
     "output_type": "stream",
     "text": [
      "Accuracy on the val dataset: 0.990\n",
      "Accuracy on the val dataset: 0.990\n",
      "Accuracy on the val dataset: 0.990\n",
      "Conv layers: [(18, 7, 3), (48, 7, 3), (200, 7, 3)], mean accuracy: 0.990\n"
     ]
    },
    {
     "name": "stderr",
     "output_type": "stream",
     "text": [
      "C:\\Users\\bred7\\anaconda3\\envs\\vyatsu_environment\\Lib\\site-packages\\torch\\nn\\modules\\conv.py:456: UserWarning: Plan failed with a cudnnException: CUDNN_BACKEND_EXECUTION_PLAN_DESCRIPTOR: cudnnFinalize Descriptor Failed cudnn_status: CUDNN_STATUS_NOT_SUPPORTED (Triggered internally at ..\\aten\\src\\ATen\\native\\cudnn\\Conv_v8.cpp:919.)\n",
      "  return F.conv2d(input, weight, bias, self.stride,\n"
     ]
    },
    {
     "name": "stdout",
     "output_type": "stream",
     "text": [
      "Accuracy on the val dataset: 0.990\n",
      "Accuracy on the val dataset: 0.990\n",
      "Accuracy on the val dataset: 0.990\n",
      "Conv layers: [(24, 7, 3), (64, 7, 3), (240, 7, 3)], mean accuracy: 0.990\n",
      "Accuracy on the val dataset: 0.990\n",
      "Accuracy on the val dataset: 0.990\n",
      "Accuracy on the val dataset: 0.990\n",
      "Conv layers: [(30, 7, 3), (80, 7, 3), (280, 7, 3)], mean accuracy: 0.990\n",
      "Accuracy on the val dataset: 0.987\n",
      "Accuracy on the val dataset: 0.986\n",
      "Accuracy on the val dataset: 0.984\n",
      "Conv layers: [(6, 7, 3), (16, 7, 3), (32, 7, 3), (120, 3, 0)], mean accuracy: 0.986\n",
      "Accuracy on the val dataset: 0.990\n",
      "Accuracy on the val dataset: 0.990\n",
      "Accuracy on the val dataset: 0.990\n",
      "Conv layers: [(12, 7, 3), (32, 7, 3), (64, 7, 3), (160, 3, 0)], mean accuracy: 0.990\n",
      "Accuracy on the val dataset: 0.991\n",
      "Accuracy on the val dataset: 0.990\n",
      "Accuracy on the val dataset: 0.990\n",
      "Conv layers: [(18, 7, 3), (48, 7, 3), (96, 7, 3), (200, 3, 0)], mean accuracy: 0.990\n"
     ]
    },
    {
     "name": "stderr",
     "output_type": "stream",
     "text": [
      "C:\\Users\\bred7\\anaconda3\\envs\\vyatsu_environment\\Lib\\site-packages\\torch\\nn\\modules\\conv.py:456: UserWarning: Plan failed with a cudnnException: CUDNN_BACKEND_EXECUTION_PLAN_DESCRIPTOR: cudnnFinalize Descriptor Failed cudnn_status: CUDNN_STATUS_NOT_SUPPORTED (Triggered internally at ..\\aten\\src\\ATen\\native\\cudnn\\Conv_v8.cpp:919.)\n",
      "  return F.conv2d(input, weight, bias, self.stride,\n"
     ]
    },
    {
     "name": "stdout",
     "output_type": "stream",
     "text": [
      "Accuracy on the val dataset: 0.990\n",
      "Accuracy on the val dataset: 0.991\n",
      "Accuracy on the val dataset: 0.991\n",
      "Conv layers: [(24, 7, 3), (64, 7, 3), (128, 7, 3), (240, 3, 0)], mean accuracy: 0.991\n"
     ]
    },
    {
     "name": "stderr",
     "output_type": "stream",
     "text": [
      "C:\\Users\\bred7\\anaconda3\\envs\\vyatsu_environment\\Lib\\site-packages\\torch\\nn\\modules\\conv.py:456: UserWarning: Plan failed with a cudnnException: CUDNN_BACKEND_EXECUTION_PLAN_DESCRIPTOR: cudnnFinalize Descriptor Failed cudnn_status: CUDNN_STATUS_NOT_SUPPORTED (Triggered internally at ..\\aten\\src\\ATen\\native\\cudnn\\Conv_v8.cpp:919.)\n",
      "  return F.conv2d(input, weight, bias, self.stride,\n"
     ]
    },
    {
     "name": "stdout",
     "output_type": "stream",
     "text": [
      "Accuracy on the val dataset: 0.991\n",
      "Accuracy on the val dataset: 0.991\n",
      "Accuracy on the val dataset: 0.991\n",
      "Conv layers: [(30, 7, 3), (80, 7, 3), (160, 7, 3), (280, 3, 0)], mean accuracy: 0.991\n"
     ]
    }
   ],
   "source": [
    "for conv_layers in conv_layers_variants:\n",
    "    accuracies = []\n",
    "    for train_index, val_index in kfold.split(train_dataset):\n",
    "        val = MNISTDataset(train_dataset.data[val_index].to(dtype=torch.float32).unsqueeze(1), train_dataset.targets[val_index], transforms.ToTensor())\n",
    "        train = MNISTDataset(train_dataset.data[train_index].to(dtype=torch.float32).unsqueeze(1), train_dataset.targets[train_index], transforms.ToTensor())\n",
    "\n",
    "        model = LeNet5(conv_layers, activation_fn, pooling_fn)\n",
    "        optimizer = torch.optim.SGD(model.parameters(), lr=learning_rate, momentum=momentum, nesterov=True)\n",
    "        acc = train_model(model, train, val, batch_size, num_epochs, optimizer, device)\n",
    "        accuracies.append(acc)\n",
    "    print(f'Conv layers: {conv_layers}, mean accuracy: {np.mean(accuracies):.3f}')\n",
    "    append_conv_layers_stats(conv_layers, np.mean(accuracies))"
   ],
   "metadata": {
    "collapsed": false,
    "ExecuteTime": {
     "end_time": "2024-08-26T00:26:22.777510700Z",
     "start_time": "2024-08-25T23:13:22.708135400Z"
    }
   }
  },
  {
   "cell_type": "code",
   "execution_count": 48,
   "outputs": [],
   "source": [
    "conv_layers_stats_df.to_csv(\"conv_layers_stats.csv\", index=False)"
   ],
   "metadata": {
    "collapsed": false,
    "ExecuteTime": {
     "end_time": "2024-08-26T00:26:22.804952300Z",
     "start_time": "2024-08-26T00:26:22.783502800Z"
    }
   }
  },
  {
   "cell_type": "code",
   "execution_count": 49,
   "outputs": [],
   "source": [
    "conv_layers_variants = [\n",
    "    [(30, 3, 1), (80, 3, 1), (160, 3, 1), (280, 3, 0)],\n",
    "    [(40, 3, 1), (100, 3, 1), (200, 3, 1), (320, 3, 0)],\n",
    "    [(50, 3, 1), (120, 3, 1), (240, 3, 1), (360, 3, 0)],\n",
    "    [(60, 3, 1), (140, 3, 1), (280, 3, 1), (400, 3, 0)],\n",
    "    [(70, 3, 1), (160, 3, 1), (320, 3, 1), (440, 3, 0)],\n",
    "    [(80, 3, 1), (180, 3, 1), (360, 3, 1), (480, 3, 0)],\n",
    "    [(90, 3, 1), (200, 3, 1), (400, 3, 1), (520, 3, 0)],\n",
    "    [(100, 3, 1), (220, 3, 1), (440, 3, 1), (560, 3, 0)],\n",
    "    [(110, 3, 1), (240, 3, 1), (480, 3, 1), (600, 3, 0)],\n",
    "    [(120, 3, 1), (260, 3, 1), (520, 3, 1), (640, 3, 0)],\n",
    "    [(130, 3, 1), (280, 3, 1), (560, 3, 1), (680, 3, 0)],\n",
    "    [(140, 3, 1), (300, 3, 1), (600, 3, 1), (720, 3, 0)],\n",
    "    [(150, 3, 1), (320, 3, 1), (640, 3, 1), (760, 3, 0)],\n",
    "    [(160, 3, 1), (340, 3, 1), (680, 3, 1), (800, 3, 0)],\n",
    "    [(170, 3, 1), (360, 3, 1), (720, 3, 1), (840, 3, 0)],\n",
    "    [(180, 3, 1), (380, 3, 1), (760, 3, 1), (880, 3, 0)],\n",
    "    [(190, 3, 1), (400, 3, 1), (800, 3, 1), (920, 3, 0)],\n",
    "    [(200, 3, 1), (420, 3, 1), (840, 3, 1), (960, 3, 0)],\n",
    "    [(210, 3, 1), (440, 3, 1), (880, 3, 1), (1000, 3, 0)]\n",
    "]"
   ],
   "metadata": {
    "collapsed": false,
    "ExecuteTime": {
     "end_time": "2024-08-26T00:36:26.299568600Z",
     "start_time": "2024-08-26T00:36:26.229893800Z"
    }
   }
  },
  {
   "cell_type": "code",
   "execution_count": 50,
   "outputs": [
    {
     "name": "stdout",
     "output_type": "stream",
     "text": [
      "Accuracy on the val dataset: 0.991\n",
      "Accuracy on the val dataset: 0.991\n",
      "Accuracy on the val dataset: 0.992\n",
      "Conv layers: [(30, 3, 1), (80, 3, 1), (160, 3, 1), (280, 3, 0)], mean accuracy: 0.99147\n",
      "Accuracy on the val dataset: 0.992\n",
      "Accuracy on the val dataset: 0.992\n",
      "Accuracy on the val dataset: 0.992\n",
      "Conv layers: [(40, 3, 1), (100, 3, 1), (200, 3, 1), (320, 3, 0)], mean accuracy: 0.99177\n",
      "Accuracy on the val dataset: 0.993\n",
      "Accuracy on the val dataset: 0.991\n",
      "Accuracy on the val dataset: 0.992\n",
      "Conv layers: [(50, 3, 1), (120, 3, 1), (240, 3, 1), (360, 3, 0)], mean accuracy: 0.99185\n",
      "Accuracy on the val dataset: 0.992\n",
      "Accuracy on the val dataset: 0.991\n",
      "Accuracy on the val dataset: 0.992\n",
      "Conv layers: [(60, 3, 1), (140, 3, 1), (280, 3, 1), (400, 3, 0)], mean accuracy: 0.99152\n",
      "Accuracy on the val dataset: 0.992\n",
      "Accuracy on the val dataset: 0.992\n",
      "Accuracy on the val dataset: 0.992\n",
      "Conv layers: [(70, 3, 1), (160, 3, 1), (320, 3, 1), (440, 3, 0)], mean accuracy: 0.99193\n",
      "Accuracy on the val dataset: 0.992\n",
      "Accuracy on the val dataset: 0.992\n",
      "Accuracy on the val dataset: 0.993\n",
      "Conv layers: [(80, 3, 1), (180, 3, 1), (360, 3, 1), (480, 3, 0)], mean accuracy: 0.99202\n",
      "Accuracy on the val dataset: 0.993\n",
      "Accuracy on the val dataset: 0.991\n",
      "Accuracy on the val dataset: 0.993\n",
      "Conv layers: [(90, 3, 1), (200, 3, 1), (400, 3, 1), (520, 3, 0)], mean accuracy: 0.99220\n",
      "Accuracy on the val dataset: 0.992\n",
      "Accuracy on the val dataset: 0.992\n",
      "Accuracy on the val dataset: 0.992\n",
      "Conv layers: [(100, 3, 1), (220, 3, 1), (440, 3, 1), (560, 3, 0)], mean accuracy: 0.99190\n",
      "Accuracy on the val dataset: 0.992\n",
      "Accuracy on the val dataset: 0.992\n",
      "Accuracy on the val dataset: 0.992\n",
      "Conv layers: [(110, 3, 1), (240, 3, 1), (480, 3, 1), (600, 3, 0)], mean accuracy: 0.99208\n",
      "Accuracy on the val dataset: 0.992\n",
      "Accuracy on the val dataset: 0.992\n",
      "Accuracy on the val dataset: 0.992\n",
      "Conv layers: [(120, 3, 1), (260, 3, 1), (520, 3, 1), (640, 3, 0)], mean accuracy: 0.99185\n",
      "Accuracy on the val dataset: 0.992\n",
      "Accuracy on the val dataset: 0.992\n",
      "Accuracy on the val dataset: 0.992\n",
      "Conv layers: [(130, 3, 1), (280, 3, 1), (560, 3, 1), (680, 3, 0)], mean accuracy: 0.99195\n",
      "Accuracy on the val dataset: 0.992\n",
      "Accuracy on the val dataset: 0.992\n",
      "Accuracy on the val dataset: 0.992\n",
      "Conv layers: [(140, 3, 1), (300, 3, 1), (600, 3, 1), (720, 3, 0)], mean accuracy: 0.99220\n",
      "Accuracy on the val dataset: 0.993\n",
      "Accuracy on the val dataset: 0.992\n",
      "Accuracy on the val dataset: 0.993\n",
      "Conv layers: [(150, 3, 1), (320, 3, 1), (640, 3, 1), (760, 3, 0)], mean accuracy: 0.99232\n",
      "Accuracy on the val dataset: 0.992\n",
      "Accuracy on the val dataset: 0.992\n",
      "Accuracy on the val dataset: 0.993\n",
      "Conv layers: [(160, 3, 1), (340, 3, 1), (680, 3, 1), (800, 3, 0)], mean accuracy: 0.99218\n",
      "Accuracy on the val dataset: 0.992\n",
      "Accuracy on the val dataset: 0.992\n",
      "Accuracy on the val dataset: 0.993\n",
      "Conv layers: [(170, 3, 1), (360, 3, 1), (720, 3, 1), (840, 3, 0)], mean accuracy: 0.99230\n",
      "Accuracy on the val dataset: 0.993\n",
      "Accuracy on the val dataset: 0.992\n",
      "Accuracy on the val dataset: 0.992\n",
      "Conv layers: [(180, 3, 1), (380, 3, 1), (760, 3, 1), (880, 3, 0)], mean accuracy: 0.99238\n",
      "Accuracy on the val dataset: 0.993\n",
      "Accuracy on the val dataset: 0.992\n",
      "Accuracy on the val dataset: 0.993\n",
      "Conv layers: [(190, 3, 1), (400, 3, 1), (800, 3, 1), (920, 3, 0)], mean accuracy: 0.99235\n"
     ]
    },
    {
     "ename": "KeyboardInterrupt",
     "evalue": "",
     "output_type": "error",
     "traceback": [
      "\u001B[1;31m---------------------------------------------------------------------------\u001B[0m",
      "\u001B[1;31mKeyboardInterrupt\u001B[0m                         Traceback (most recent call last)",
      "Cell \u001B[1;32mIn[50], line 9\u001B[0m\n\u001B[0;32m      7\u001B[0m     model \u001B[38;5;241m=\u001B[39m LeNet5(conv_layers, activation_fn, pooling_fn)\n\u001B[0;32m      8\u001B[0m     optimizer \u001B[38;5;241m=\u001B[39m torch\u001B[38;5;241m.\u001B[39moptim\u001B[38;5;241m.\u001B[39mSGD(model\u001B[38;5;241m.\u001B[39mparameters(), lr\u001B[38;5;241m=\u001B[39mlearning_rate, momentum\u001B[38;5;241m=\u001B[39mmomentum, nesterov\u001B[38;5;241m=\u001B[39m\u001B[38;5;28;01mTrue\u001B[39;00m)\n\u001B[1;32m----> 9\u001B[0m     acc \u001B[38;5;241m=\u001B[39m train_model(model, train, val, batch_size, num_epochs, optimizer, device)\n\u001B[0;32m     10\u001B[0m     accuracies\u001B[38;5;241m.\u001B[39mappend(acc)\n\u001B[0;32m     11\u001B[0m \u001B[38;5;28mprint\u001B[39m(\u001B[38;5;124mf\u001B[39m\u001B[38;5;124m'\u001B[39m\u001B[38;5;124mConv layers: \u001B[39m\u001B[38;5;132;01m{\u001B[39;00mconv_layers\u001B[38;5;132;01m}\u001B[39;00m\u001B[38;5;124m, mean accuracy: \u001B[39m\u001B[38;5;132;01m{\u001B[39;00mnp\u001B[38;5;241m.\u001B[39mmean(accuracies)\u001B[38;5;132;01m:\u001B[39;00m\u001B[38;5;124m.5f\u001B[39m\u001B[38;5;132;01m}\u001B[39;00m\u001B[38;5;124m'\u001B[39m)\n",
      "Cell \u001B[1;32mIn[33], line 24\u001B[0m, in \u001B[0;36mtrain_model\u001B[1;34m(model, train_dataset, val_dataset, batch_size, num_epochs, optimizer, device)\u001B[0m\n\u001B[0;32m     22\u001B[0m outputs \u001B[38;5;241m=\u001B[39m model(images)\n\u001B[0;32m     23\u001B[0m loss \u001B[38;5;241m=\u001B[39m loss_fn(outputs, labels)\n\u001B[1;32m---> 24\u001B[0m losses\u001B[38;5;241m.\u001B[39mappend(loss\u001B[38;5;241m.\u001B[39mitem())\n\u001B[0;32m     26\u001B[0m \u001B[38;5;66;03m# Backward and optimize\u001B[39;00m\n\u001B[0;32m     27\u001B[0m optimizer\u001B[38;5;241m.\u001B[39mzero_grad()\n",
      "\u001B[1;31mKeyboardInterrupt\u001B[0m: "
     ]
    }
   ],
   "source": [
    "for conv_layers in conv_layers_variants:\n",
    "    accuracies = []\n",
    "    for train_index, val_index in kfold.split(train_dataset):\n",
    "        val = MNISTDataset(train_dataset.data[val_index].to(dtype=torch.float32).unsqueeze(1), train_dataset.targets[val_index], transforms.ToTensor())\n",
    "        train = MNISTDataset(train_dataset.data[train_index].to(dtype=torch.float32).unsqueeze(1), train_dataset.targets[train_index], transforms.ToTensor())\n",
    "\n",
    "        model = LeNet5(conv_layers, activation_fn, pooling_fn)\n",
    "        optimizer = torch.optim.SGD(model.parameters(), lr=learning_rate, momentum=momentum, nesterov=True)\n",
    "        acc = train_model(model, train, val, batch_size, num_epochs, optimizer, device)\n",
    "        accuracies.append(acc)\n",
    "    print(f'Conv layers: {conv_layers}, mean accuracy: {np.mean(accuracies):.5f}')\n",
    "    append_conv_layers_stats(conv_layers, np.mean(accuracies))"
   ],
   "metadata": {
    "collapsed": false,
    "ExecuteTime": {
     "end_time": "2024-08-26T04:24:01.383319100Z",
     "start_time": "2024-08-26T00:36:26.243570500Z"
    }
   }
  },
  {
   "cell_type": "code",
   "execution_count": 51,
   "outputs": [],
   "source": [
    "conv_layers_stats_df.to_csv(\"conv_layers_stats_2.csv\", index=False)"
   ],
   "metadata": {
    "collapsed": false,
    "ExecuteTime": {
     "end_time": "2024-08-26T04:24:10.985551500Z",
     "start_time": "2024-08-26T04:24:10.976502400Z"
    }
   }
  },
  {
   "cell_type": "code",
   "execution_count": 52,
   "outputs": [],
   "source": [
    "conv_layers_variants = [\n",
    "    [(200, 3, 1), (420, 3, 1), (840, 3, 1), (960, 3, 0)],\n",
    "    [(210, 3, 1), (440, 3, 1), (880, 3, 1), (1000, 3, 0)],\n",
    "    [(220, 3, 1), (460, 3, 1), (920, 3, 1), (1040, 3, 0)],\n",
    "    [(230, 3, 1), (480, 3, 1), (960, 3, 1), (1080, 3, 0)],\n",
    "    [(240, 3, 1), (500, 3, 1), (1000, 3, 1), (1120, 3, 0)],\n",
    "    [(250, 3, 1), (520, 3, 1), (1040, 3, 1), (1160, 3, 0)],\n",
    "    [(260, 3, 1), (540, 3, 1), (1080, 3, 1), (1200, 3, 0)],\n",
    "    [(270, 3, 1), (560, 3, 1), (1120, 3, 1), (1240, 3, 0)],\n",
    "    [(280, 3, 1), (580, 3, 1), (1160, 3, 1), (1280, 3, 0)],\n",
    "    [(290, 3, 1), (600, 3, 1), (1200, 3, 1), (1320, 3, 0)],\n",
    "    [(300, 3, 1), (620, 3, 1), (1240, 3, 1), (1360, 3, 0)],\n",
    "    [(310, 3, 1), (640, 3, 1), (1280, 3, 1), (1400, 3, 0)],\n",
    "    [(320, 3, 1), (660, 3, 1), (1320, 3, 1), (1440, 3, 0)],\n",
    "    [(330, 3, 1), (680, 3, 1), (1360, 3, 1), (1480, 3, 0)],\n",
    "    [(340, 3, 1), (700, 3, 1), (1400, 3, 1), (1520, 3, 0)],\n",
    "    [(350, 3, 1), (720, 3, 1), (1440, 3, 1), (1560, 3, 0)],\n",
    "    [(360, 3, 1), (740, 3, 1), (1480, 3, 1), (1600, 3, 0)],\n",
    "    [(370, 3, 1), (760, 3, 1), (1520, 3, 1), (1640, 3, 0)],\n",
    "    [(380, 3, 1), (780, 3, 1), (1560, 3, 1), (1680, 3, 0)],\n",
    "    [(390, 3, 1), (800, 3, 1), (1600, 3, 1), (1720, 3, 0)],\n",
    "    [(400, 3, 1), (820, 3, 1), (1640, 3, 1), (1760, 3, 0)],\n",
    "]"
   ],
   "metadata": {
    "collapsed": false,
    "ExecuteTime": {
     "end_time": "2024-08-26T04:27:20.640785900Z",
     "start_time": "2024-08-26T04:27:20.581025500Z"
    }
   }
  },
  {
   "cell_type": "code",
   "execution_count": 53,
   "outputs": [
    {
     "name": "stdout",
     "output_type": "stream",
     "text": [
      "Accuracy on the val dataset: 0.992\n",
      "Accuracy on the val dataset: 0.992\n",
      "Accuracy on the val dataset: 0.992\n",
      "Conv layers: [(200, 3, 1), (420, 3, 1), (840, 3, 1), (960, 3, 0)], mean accuracy: 0.99200\n",
      "Accuracy on the val dataset: 0.993\n",
      "Accuracy on the val dataset: 0.992\n",
      "Accuracy on the val dataset: 0.992\n",
      "Conv layers: [(210, 3, 1), (440, 3, 1), (880, 3, 1), (1000, 3, 0)], mean accuracy: 0.99198\n",
      "Accuracy on the val dataset: 0.993\n",
      "Accuracy on the val dataset: 0.992\n",
      "Accuracy on the val dataset: 0.993\n",
      "Conv layers: [(220, 3, 1), (460, 3, 1), (920, 3, 1), (1040, 3, 0)], mean accuracy: 0.99243\n",
      "Accuracy on the val dataset: 0.993\n",
      "Accuracy on the val dataset: 0.992\n",
      "Accuracy on the val dataset: 0.993\n",
      "Conv layers: [(230, 3, 1), (480, 3, 1), (960, 3, 1), (1080, 3, 0)], mean accuracy: 0.99243\n",
      "Accuracy on the val dataset: 0.992\n",
      "Accuracy on the val dataset: 0.992\n",
      "Accuracy on the val dataset: 0.992\n",
      "Conv layers: [(240, 3, 1), (500, 3, 1), (1000, 3, 1), (1120, 3, 0)], mean accuracy: 0.99225\n",
      "Accuracy on the val dataset: 0.993\n",
      "Accuracy on the val dataset: 0.992\n",
      "Accuracy on the val dataset: 0.993\n",
      "Conv layers: [(250, 3, 1), (520, 3, 1), (1040, 3, 1), (1160, 3, 0)], mean accuracy: 0.99253\n",
      "Accuracy on the val dataset: 0.993\n",
      "Accuracy on the val dataset: 0.991\n",
      "Accuracy on the val dataset: 0.993\n",
      "Conv layers: [(260, 3, 1), (540, 3, 1), (1080, 3, 1), (1200, 3, 0)], mean accuracy: 0.99230\n",
      "Accuracy on the val dataset: 0.992\n",
      "Accuracy on the val dataset: 0.992\n",
      "Accuracy on the val dataset: 0.993\n",
      "Conv layers: [(270, 3, 1), (560, 3, 1), (1120, 3, 1), (1240, 3, 0)], mean accuracy: 0.99222\n",
      "Accuracy on the val dataset: 0.993\n",
      "Accuracy on the val dataset: 0.993\n",
      "Accuracy on the val dataset: 0.992\n",
      "Conv layers: [(280, 3, 1), (580, 3, 1), (1160, 3, 1), (1280, 3, 0)], mean accuracy: 0.99267\n",
      "Accuracy on the val dataset: 0.993\n",
      "Accuracy on the val dataset: 0.992\n",
      "Accuracy on the val dataset: 0.993\n",
      "Conv layers: [(290, 3, 1), (600, 3, 1), (1200, 3, 1), (1320, 3, 0)], mean accuracy: 0.99225\n",
      "Accuracy on the val dataset: 0.993\n",
      "Accuracy on the val dataset: 0.991\n",
      "Accuracy on the val dataset: 0.992\n",
      "Conv layers: [(300, 3, 1), (620, 3, 1), (1240, 3, 1), (1360, 3, 0)], mean accuracy: 0.99193\n",
      "Accuracy on the val dataset: 0.992\n",
      "Accuracy on the val dataset: 0.992\n",
      "Accuracy on the val dataset: 0.992\n",
      "Conv layers: [(310, 3, 1), (640, 3, 1), (1280, 3, 1), (1400, 3, 0)], mean accuracy: 0.99220\n",
      "Accuracy on the val dataset: 0.993\n",
      "Accuracy on the val dataset: 0.992\n",
      "Accuracy on the val dataset: 0.993\n",
      "Conv layers: [(320, 3, 1), (660, 3, 1), (1320, 3, 1), (1440, 3, 0)], mean accuracy: 0.99263\n",
      "Accuracy on the val dataset: 0.993\n",
      "Accuracy on the val dataset: 0.992\n",
      "Accuracy on the val dataset: 0.993\n",
      "Conv layers: [(330, 3, 1), (680, 3, 1), (1360, 3, 1), (1480, 3, 0)], mean accuracy: 0.99242\n",
      "Accuracy on the val dataset: 0.993\n",
      "Accuracy on the val dataset: 0.992\n",
      "Accuracy on the val dataset: 0.992\n",
      "Conv layers: [(340, 3, 1), (700, 3, 1), (1400, 3, 1), (1520, 3, 0)], mean accuracy: 0.99237\n"
     ]
    },
    {
     "ename": "KeyboardInterrupt",
     "evalue": "",
     "output_type": "error",
     "traceback": [
      "\u001B[1;31m---------------------------------------------------------------------------\u001B[0m",
      "\u001B[1;31mKeyboardInterrupt\u001B[0m                         Traceback (most recent call last)",
      "Cell \u001B[1;32mIn[53], line 9\u001B[0m\n\u001B[0;32m      7\u001B[0m     model \u001B[38;5;241m=\u001B[39m LeNet5(conv_layers, activation_fn, pooling_fn)\n\u001B[0;32m      8\u001B[0m     optimizer \u001B[38;5;241m=\u001B[39m torch\u001B[38;5;241m.\u001B[39moptim\u001B[38;5;241m.\u001B[39mSGD(model\u001B[38;5;241m.\u001B[39mparameters(), lr\u001B[38;5;241m=\u001B[39mlearning_rate, momentum\u001B[38;5;241m=\u001B[39mmomentum, nesterov\u001B[38;5;241m=\u001B[39m\u001B[38;5;28;01mTrue\u001B[39;00m)\n\u001B[1;32m----> 9\u001B[0m     acc \u001B[38;5;241m=\u001B[39m train_model(model, train, val, batch_size, num_epochs, optimizer, device)\n\u001B[0;32m     10\u001B[0m     accuracies\u001B[38;5;241m.\u001B[39mappend(acc)\n\u001B[0;32m     11\u001B[0m \u001B[38;5;28mprint\u001B[39m(\u001B[38;5;124mf\u001B[39m\u001B[38;5;124m'\u001B[39m\u001B[38;5;124mConv layers: \u001B[39m\u001B[38;5;132;01m{\u001B[39;00mconv_layers\u001B[38;5;132;01m}\u001B[39;00m\u001B[38;5;124m, mean accuracy: \u001B[39m\u001B[38;5;132;01m{\u001B[39;00mnp\u001B[38;5;241m.\u001B[39mmean(accuracies)\u001B[38;5;132;01m:\u001B[39;00m\u001B[38;5;124m.5f\u001B[39m\u001B[38;5;132;01m}\u001B[39;00m\u001B[38;5;124m'\u001B[39m)\n",
      "Cell \u001B[1;32mIn[33], line 18\u001B[0m, in \u001B[0;36mtrain_model\u001B[1;34m(model, train_dataset, val_dataset, batch_size, num_epochs, optimizer, device)\u001B[0m\n\u001B[0;32m     14\u001B[0m losses \u001B[38;5;241m=\u001B[39m []\n\u001B[0;32m     16\u001B[0m \u001B[38;5;28;01mfor\u001B[39;00m i, (images, labels) \u001B[38;5;129;01min\u001B[39;00m \u001B[38;5;28menumerate\u001B[39m(train_loader):\n\u001B[0;32m     17\u001B[0m     \u001B[38;5;66;03m# Move tensors to the configured device\u001B[39;00m\n\u001B[1;32m---> 18\u001B[0m     images \u001B[38;5;241m=\u001B[39m images\u001B[38;5;241m.\u001B[39mto(device)\n\u001B[0;32m     19\u001B[0m     labels \u001B[38;5;241m=\u001B[39m labels\u001B[38;5;241m.\u001B[39mto(device)\n\u001B[0;32m     21\u001B[0m     \u001B[38;5;66;03m# Forward pass\u001B[39;00m\n",
      "\u001B[1;31mKeyboardInterrupt\u001B[0m: "
     ]
    }
   ],
   "source": [
    "for conv_layers in conv_layers_variants:\n",
    "    accuracies = []\n",
    "    for train_index, val_index in kfold.split(train_dataset):\n",
    "        val = MNISTDataset(train_dataset.data[val_index].to(dtype=torch.float32).unsqueeze(1), train_dataset.targets[val_index], transforms.ToTensor())\n",
    "        train = MNISTDataset(train_dataset.data[train_index].to(dtype=torch.float32).unsqueeze(1), train_dataset.targets[train_index], transforms.ToTensor())\n",
    "\n",
    "        model = LeNet5(conv_layers, activation_fn, pooling_fn)\n",
    "        optimizer = torch.optim.SGD(model.parameters(), lr=learning_rate, momentum=momentum, nesterov=True)\n",
    "        acc = train_model(model, train, val, batch_size, num_epochs, optimizer, device)\n",
    "        accuracies.append(acc)\n",
    "    print(f'Conv layers: {conv_layers}, mean accuracy: {np.mean(accuracies):.5f}')\n",
    "    append_conv_layers_stats(conv_layers, np.mean(accuracies))"
   ],
   "metadata": {
    "collapsed": false,
    "ExecuteTime": {
     "end_time": "2024-08-26T16:09:40.490346Z",
     "start_time": "2024-08-26T04:27:20.592045800Z"
    }
   }
  },
  {
   "cell_type": "code",
   "execution_count": 54,
   "outputs": [],
   "source": [
    "conv_layers_stats_df.to_csv(\"conv_layers_stats_3.csv\", index=False)"
   ],
   "metadata": {
    "collapsed": false,
    "ExecuteTime": {
     "end_time": "2024-08-26T16:09:45.025782Z",
     "start_time": "2024-08-26T16:09:44.998656800Z"
    }
   }
  },
  {
   "cell_type": "code",
   "execution_count": 119,
   "outputs": [],
   "source": [
    "conv_layers_variants = [\n",
    "    [(280, 3, 1), (580, 3, 1), (1160, 3, 1), (1280, 3, 0)],\n",
    "    [(320, 3, 1), (660, 3, 1), (1320, 3, 1), (1440, 3, 0)],\n",
    "    [(250, 3, 1), (520, 3, 1), (1040, 3, 1), (1160, 3, 0)],\n",
    "    [(220, 3, 1), (460, 3, 1), (920, 3, 1), (1040, 3, 0)],\n",
    "    [(230, 3, 1), (480, 3, 1), (960, 3, 1), (1080, 3, 0)],\n",
    "    [(330, 3, 1), (680, 3, 1), (1360, 3, 1), (1480, 3, 0)],\n",
    "    [(180, 3, 1), (380, 3, 1), (760, 3, 1), (880, 3, 0)],\n",
    "    [(340, 3, 1), (700, 3, 1), (1400, 3, 1), (1520, 3, 0)],\n",
    "    [(190, 3, 1), (400, 3, 1), (800, 3, 1), (920, 3, 0)],\n",
    "    [(150, 3, 1), (320, 3, 1), (640, 3, 1), (760, 3, 0)],\n",
    "    [(170, 3, 1), (360, 3, 1), (720, 3, 1), (840, 3, 0)],\n",
    "    [(260, 3, 1), (540, 3, 1), (1080, 3, 1), (1200, 3, 0)],\n",
    "    [(240, 3, 1), (500, 3, 1), (1000, 3, 1), (1120, 3, 0)],\n",
    "    [(290, 3, 1), (600, 3, 1), (1200, 3, 1), (1320, 3, 0)],\n",
    "    [(270, 3, 1), (560, 3, 1), (1120, 3, 1), (1240, 3, 0)],\n",
    "    [(90, 3, 1), (200, 3, 1), (400, 3, 1), (520, 3, 0)],\n",
    "    [(140, 3, 1), (300, 3, 1), (600, 3, 1), (720, 3, 0)],\n",
    "    [(310, 3, 1), (640, 3, 1), (1280, 3, 1), (1400, 3, 0)],\n",
    "    [(160, 3, 1), (340, 3, 1), (680, 3, 1), (800, 3, 0)],\n",
    "    [(110, 3, 1), (240, 3, 1), (480, 3, 1), (600, 3, 0)],\n",
    "    [(80, 3, 1), (180, 3, 1), (360, 3, 1), (480, 3, 0)],\n",
    "    [(200, 3, 1), (420, 3, 1), (840, 3, 1), (960, 3, 0)],\n",
    "    [(210, 3, 1), (440, 3, 1), (880, 3, 1), (1000, 3, 0)],\n",
    "    [(130, 3, 1), (280, 3, 1), (560, 3, 1), (680, 3, 0)],\n",
    "    [(70, 3, 1), (160, 3, 1), (320, 3, 1), (440, 3, 0)],\n",
    "    [(300, 3, 1), (620, 3, 1), (1240, 3, 1), (1360, 3, 0)],\n",
    "    [(100, 3, 1), (220, 3, 1), (440, 3, 1), (560, 3, 0)],\n",
    "    [(50, 3, 1), (120, 3, 1), (240, 3, 1), (360, 3, 0)],\n",
    "    [(120, 3, 1), (260, 3, 1), (520, 3, 1), (640, 3, 0)],\n",
    "    [(40, 3, 1), (100, 3, 1), (200, 3, 1), (320, 3, 0)],\n",
    "]"
   ],
   "metadata": {
    "collapsed": false,
    "ExecuteTime": {
     "end_time": "2024-08-26T18:12:20.151036300Z",
     "start_time": "2024-08-26T18:12:19.695712400Z"
    }
   }
  },
  {
   "cell_type": "code",
   "execution_count": 120,
   "outputs": [],
   "source": [
    "conv_layers_stats_df = pd.DataFrame(data=None, columns=['conv_layers', 'accuracy'])\n",
    "conv_layers_stats_df_index = 0\n",
    "\n",
    "def append_conv_layers_stats(conv_layers, accuracy):\n",
    "    global conv_layers_stats_df_index\n",
    "    conv_layers_stats_df.loc[conv_layers_stats_df_index] = [conv_layers, accuracy]\n",
    "    conv_layers_stats_df_index += 1"
   ],
   "metadata": {
    "collapsed": false,
    "ExecuteTime": {
     "end_time": "2024-08-26T18:12:20.172148500Z",
     "start_time": "2024-08-26T18:12:19.707534600Z"
    }
   }
  },
  {
   "cell_type": "code",
   "execution_count": 121,
   "outputs": [
    {
     "name": "stdout",
     "output_type": "stream",
     "text": [
      "Accuracy on the val dataset: 0.991\n",
      "Conv layers: [(280, 3, 1), (580, 3, 1), (1160, 3, 1), (1280, 3, 0)], accuracy: 0.99110\n",
      "Accuracy on the val dataset: 0.991\n",
      "Conv layers: [(320, 3, 1), (660, 3, 1), (1320, 3, 1), (1440, 3, 0)], accuracy: 0.99090\n",
      "Accuracy on the val dataset: 0.992\n",
      "Conv layers: [(250, 3, 1), (520, 3, 1), (1040, 3, 1), (1160, 3, 0)], accuracy: 0.99150\n",
      "Accuracy on the val dataset: 0.991\n",
      "Conv layers: [(220, 3, 1), (460, 3, 1), (920, 3, 1), (1040, 3, 0)], accuracy: 0.99120\n",
      "Accuracy on the val dataset: 0.990\n",
      "Conv layers: [(230, 3, 1), (480, 3, 1), (960, 3, 1), (1080, 3, 0)], accuracy: 0.99030\n",
      "Accuracy on the val dataset: 0.991\n",
      "Conv layers: [(330, 3, 1), (680, 3, 1), (1360, 3, 1), (1480, 3, 0)], accuracy: 0.99100\n",
      "Accuracy on the val dataset: 0.991\n",
      "Conv layers: [(180, 3, 1), (380, 3, 1), (760, 3, 1), (880, 3, 0)], accuracy: 0.99130\n",
      "Accuracy on the val dataset: 0.991\n",
      "Conv layers: [(340, 3, 1), (700, 3, 1), (1400, 3, 1), (1520, 3, 0)], accuracy: 0.99090\n",
      "Accuracy on the val dataset: 0.991\n",
      "Conv layers: [(190, 3, 1), (400, 3, 1), (800, 3, 1), (920, 3, 0)], accuracy: 0.99080\n",
      "Accuracy on the val dataset: 0.991\n",
      "Conv layers: [(150, 3, 1), (320, 3, 1), (640, 3, 1), (760, 3, 0)], accuracy: 0.99120\n",
      "Accuracy on the val dataset: 0.991\n",
      "Conv layers: [(170, 3, 1), (360, 3, 1), (720, 3, 1), (840, 3, 0)], accuracy: 0.99110\n",
      "Accuracy on the val dataset: 0.991\n",
      "Conv layers: [(260, 3, 1), (540, 3, 1), (1080, 3, 1), (1200, 3, 0)], accuracy: 0.99070\n",
      "Accuracy on the val dataset: 0.991\n",
      "Conv layers: [(240, 3, 1), (500, 3, 1), (1000, 3, 1), (1120, 3, 0)], accuracy: 0.99080\n",
      "Accuracy on the val dataset: 0.991\n",
      "Conv layers: [(290, 3, 1), (600, 3, 1), (1200, 3, 1), (1320, 3, 0)], accuracy: 0.99080\n",
      "Accuracy on the val dataset: 0.991\n",
      "Conv layers: [(270, 3, 1), (560, 3, 1), (1120, 3, 1), (1240, 3, 0)], accuracy: 0.99120\n",
      "Accuracy on the val dataset: 0.991\n",
      "Conv layers: [(90, 3, 1), (200, 3, 1), (400, 3, 1), (520, 3, 0)], accuracy: 0.99150\n",
      "Accuracy on the val dataset: 0.991\n",
      "Conv layers: [(140, 3, 1), (300, 3, 1), (600, 3, 1), (720, 3, 0)], accuracy: 0.99090\n",
      "Accuracy on the val dataset: 0.990\n",
      "Conv layers: [(310, 3, 1), (640, 3, 1), (1280, 3, 1), (1400, 3, 0)], accuracy: 0.99010\n",
      "Accuracy on the val dataset: 0.990\n",
      "Conv layers: [(160, 3, 1), (340, 3, 1), (680, 3, 1), (800, 3, 0)], accuracy: 0.99030\n",
      "Accuracy on the val dataset: 0.992\n",
      "Conv layers: [(110, 3, 1), (240, 3, 1), (480, 3, 1), (600, 3, 0)], accuracy: 0.99180\n",
      "Accuracy on the val dataset: 0.992\n",
      "Conv layers: [(80, 3, 1), (180, 3, 1), (360, 3, 1), (480, 3, 0)], accuracy: 0.99180\n",
      "Accuracy on the val dataset: 0.991\n",
      "Conv layers: [(200, 3, 1), (420, 3, 1), (840, 3, 1), (960, 3, 0)], accuracy: 0.99090\n",
      "Accuracy on the val dataset: 0.992\n",
      "Conv layers: [(210, 3, 1), (440, 3, 1), (880, 3, 1), (1000, 3, 0)], accuracy: 0.99200\n",
      "Accuracy on the val dataset: 0.991\n",
      "Conv layers: [(130, 3, 1), (280, 3, 1), (560, 3, 1), (680, 3, 0)], accuracy: 0.99110\n",
      "Accuracy on the val dataset: 0.991\n",
      "Conv layers: [(70, 3, 1), (160, 3, 1), (320, 3, 1), (440, 3, 0)], accuracy: 0.99140\n",
      "Accuracy on the val dataset: 0.990\n",
      "Conv layers: [(300, 3, 1), (620, 3, 1), (1240, 3, 1), (1360, 3, 0)], accuracy: 0.99040\n",
      "Accuracy on the val dataset: 0.992\n",
      "Conv layers: [(100, 3, 1), (220, 3, 1), (440, 3, 1), (560, 3, 0)], accuracy: 0.99160\n",
      "Accuracy on the val dataset: 0.992\n",
      "Conv layers: [(50, 3, 1), (120, 3, 1), (240, 3, 1), (360, 3, 0)], accuracy: 0.99180\n",
      "Accuracy on the val dataset: 0.991\n",
      "Conv layers: [(120, 3, 1), (260, 3, 1), (520, 3, 1), (640, 3, 0)], accuracy: 0.99130\n",
      "Accuracy on the val dataset: 0.991\n",
      "Conv layers: [(40, 3, 1), (100, 3, 1), (200, 3, 1), (320, 3, 0)], accuracy: 0.99130\n"
     ]
    }
   ],
   "source": [
    "for conv_layers in conv_layers_variants:\n",
    "    model = LeNet5(conv_layers, activation_fn, pooling_fn)\n",
    "    optimizer = torch.optim.SGD(model.parameters(), lr=learning_rate, momentum=momentum, nesterov=True)\n",
    "    acc = train_model(model, train_dataset, test_dataset, batch_size, num_epochs, optimizer, device)\n",
    "    print(f'Conv layers: {conv_layers}, accuracy: {acc:.5f}')\n",
    "    append_conv_layers_stats(conv_layers, acc)\n",
    "\n",
    "conv_layers_stats_df.to_csv(\"conv_layers_stats_test.csv\", index=False)"
   ],
   "metadata": {
    "collapsed": false,
    "ExecuteTime": {
     "end_time": "2024-08-27T01:50:01.705002900Z",
     "start_time": "2024-08-26T18:12:19.727256Z"
    }
   }
  },
  {
   "cell_type": "code",
   "execution_count": 142,
   "outputs": [
    {
     "name": "stdout",
     "output_type": "stream",
     "text": [
      "Accuracy on the val dataset: 0.992\n"
     ]
    }
   ],
   "source": [
    "conv_layers = [(210, 3, 1), (440, 3, 1), (880, 3, 1), (1000, 3, 0)]\n",
    "model = LeNet5(conv_layers, activation_fn, pooling_fn)\n",
    "optimizer = torch.optim.SGD(model.parameters(), lr=learning_rate, momentum=momentum, nesterov=True)\n",
    "acc = train_model(model, train_dataset, test_dataset, batch_size, num_epochs, optimizer, device)"
   ],
   "metadata": {
    "collapsed": false,
    "ExecuteTime": {
     "end_time": "2024-08-27T11:47:43.212486900Z",
     "start_time": "2024-08-27T11:32:21.907291700Z"
    }
   }
  },
  {
   "cell_type": "code",
   "execution_count": 143,
   "outputs": [
    {
     "data": {
      "text/plain": "<Figure size 800x800 with 1 Axes>",
      "image/png": "[encoded data removed]"
     },
     "metadata": {},
     "output_type": "display_data"
    }
   ],
   "source": [
    "import matplotlib.pyplot as plt\n",
    "import cv2\n",
    "\n",
    "img = cv2.imread('one.png', cv2.IMREAD_GRAYSCALE)\n",
    "figure = plt.figure(figsize=(8, 8))\n",
    "plt.imshow(img.squeeze(), cmap=\"gray\")\n",
    "\n",
    "plt.show()"
   ],
   "metadata": {
    "collapsed": false,
    "ExecuteTime": {
     "end_time": "2024-08-27T11:47:43.402012200Z",
     "start_time": "2024-08-27T11:47:43.216491700Z"
    }
   }
  },
  {
   "cell_type": "code",
   "execution_count": 144,
   "outputs": [
    {
     "name": "stdout",
     "output_type": "stream",
     "text": [
      "Predicted: 1\n"
     ]
    }
   ],
   "source": [
    "with torch.no_grad():\n",
    "    img = torch.tensor(img, dtype=torch.float32).unsqueeze(0).unsqueeze(0).to(device)\n",
    "    output = model(img)\n",
    "    predicted = torch.argmax(output, 1)\n",
    "    print(f'Predicted: {predicted.item()}')"
   ],
   "metadata": {
    "collapsed": false,
    "ExecuteTime": {
     "end_time": "2024-08-27T11:47:43.475114600Z",
     "start_time": "2024-08-27T11:47:43.407025200Z"
    }
   }
  },
  {
   "cell_type": "code",
   "execution_count": 145,
   "outputs": [
    {
     "data": {
      "text/plain": "<Figure size 800x800 with 1 Axes>",
      "image/png": "[encoded data removed]"
     },
     "metadata": {},
     "output_type": "display_data"
    }
   ],
   "source": [
    "img = cv2.imread('two.png', cv2.IMREAD_GRAYSCALE)\n",
    "figure = plt.figure(figsize=(8, 8))\n",
    "plt.imshow(img.squeeze(), cmap=\"gray\")\n",
    "\n",
    "plt.show()"
   ],
   "metadata": {
    "collapsed": false,
    "ExecuteTime": {
     "end_time": "2024-08-27T11:47:43.630339200Z",
     "start_time": "2024-08-27T11:47:43.427131Z"
    }
   }
  },
  {
   "cell_type": "code",
   "execution_count": 146,
   "outputs": [
    {
     "name": "stdout",
     "output_type": "stream",
     "text": [
      "Predicted: 2\n"
     ]
    }
   ],
   "source": [
    "with torch.no_grad():\n",
    "    img = torch.tensor(img, dtype=torch.float32).unsqueeze(0).unsqueeze(0).to(device)\n",
    "    output = model(img)\n",
    "    predicted = torch.argmax(output, 1)\n",
    "    print(f'Predicted: {predicted.item()}')"
   ],
   "metadata": {
    "collapsed": false,
    "ExecuteTime": {
     "end_time": "2024-08-27T11:47:43.646275500Z",
     "start_time": "2024-08-27T11:47:43.635341200Z"
    }
   }
  },
  {
   "cell_type": "code",
   "execution_count": 147,
   "outputs": [
    {
     "data": {
      "text/plain": "<Figure size 800x800 with 1 Axes>",
      "image/png": "[encoded data removed]"
     },
     "metadata": {},
     "output_type": "display_data"
    }
   ],
   "source": [
    "img = cv2.imread('three.png', cv2.IMREAD_GRAYSCALE)\n",
    "figure = plt.figure(figsize=(8, 8))\n",
    "plt.imshow(img.squeeze(), cmap=\"gray\")\n",
    "\n",
    "plt.show()"
   ],
   "metadata": {
    "collapsed": false,
    "ExecuteTime": {
     "end_time": "2024-08-27T11:47:43.869457300Z",
     "start_time": "2024-08-27T11:47:43.648277Z"
    }
   }
  },
  {
   "cell_type": "code",
   "execution_count": 148,
   "outputs": [
    {
     "name": "stdout",
     "output_type": "stream",
     "text": [
      "Predicted: 3\n"
     ]
    }
   ],
   "source": [
    "with torch.no_grad():\n",
    "    img = torch.tensor(img, dtype=torch.float32).unsqueeze(0).unsqueeze(0).to(device)\n",
    "    output = model(img)\n",
    "    predicted = torch.argmax(output, 1)\n",
    "    print(f'Predicted: {predicted.item()}')"
   ],
   "metadata": {
    "collapsed": false,
    "ExecuteTime": {
     "end_time": "2024-08-27T11:47:43.885590100Z",
     "start_time": "2024-08-27T11:47:43.874516200Z"
    }
   }
  },
  {
   "cell_type": "code",
   "execution_count": 149,
   "outputs": [
    {
     "data": {
      "text/plain": "<Figure size 800x800 with 1 Axes>",
      "image/png": "[encoded data removed]"
     },
     "metadata": {},
     "output_type": "display_data"
    }
   ],
   "source": [
    "img = cv2.imread('four.png', cv2.IMREAD_GRAYSCALE)\n",
    "figure = plt.figure(figsize=(8, 8))\n",
    "plt.imshow(img.squeeze(), cmap=\"gray\")\n",
    "\n",
    "plt.show()"
   ],
   "metadata": {
    "collapsed": false,
    "ExecuteTime": {
     "end_time": "2024-08-27T11:47:44.074634900Z",
     "start_time": "2024-08-27T11:47:43.885590100Z"
    }
   }
  },
  {
   "cell_type": "code",
   "execution_count": 150,
   "outputs": [
    {
     "name": "stdout",
     "output_type": "stream",
     "text": [
      "Predicted: 4\n"
     ]
    }
   ],
   "source": [
    "with torch.no_grad():\n",
    "    img = torch.tensor(img, dtype=torch.float32).unsqueeze(0).unsqueeze(0).to(device)\n",
    "    output = model(img)\n",
    "    predicted = torch.argmax(output, 1)\n",
    "    print(f'Predicted: {predicted.item()}')"
   ],
   "metadata": {
    "collapsed": false,
    "ExecuteTime": {
     "end_time": "2024-08-27T11:47:44.089964900Z",
     "start_time": "2024-08-27T11:47:44.076632400Z"
    }
   }
  },
  {
   "cell_type": "code",
   "execution_count": 151,
   "outputs": [
    {
     "data": {
      "text/plain": "<Figure size 800x800 with 1 Axes>",
      "image/png": "[encoded data removed]"
     },
     "metadata": {},
     "output_type": "display_data"
    }
   ],
   "source": [
    "img = cv2.imread('five.png', cv2.IMREAD_GRAYSCALE)\n",
    "figure = plt.figure(figsize=(8, 8))\n",
    "plt.imshow(img.squeeze(), cmap=\"gray\")\n",
    "\n",
    "plt.show()"
   ],
   "metadata": {
    "collapsed": false,
    "ExecuteTime": {
     "end_time": "2024-08-27T11:47:44.277928400Z",
     "start_time": "2024-08-27T11:47:44.088965900Z"
    }
   }
  },
  {
   "cell_type": "code",
   "execution_count": 152,
   "outputs": [
    {
     "name": "stdout",
     "output_type": "stream",
     "text": [
      "Predicted: 5\n"
     ]
    }
   ],
   "source": [
    "with torch.no_grad():\n",
    "    img = torch.tensor(img, dtype=torch.float32).unsqueeze(0).unsqueeze(0).to(device)\n",
    "    output = model(img)\n",
    "    predicted = torch.argmax(output, 1)\n",
    "    print(f'Predicted: {predicted.item()}')"
   ],
   "metadata": {
    "collapsed": false,
    "ExecuteTime": {
     "end_time": "2024-08-27T11:47:44.292403Z",
     "start_time": "2024-08-27T11:47:44.281925Z"
    }
   }
  },
  {
   "cell_type": "code",
   "execution_count": 153,
   "outputs": [
    {
     "data": {
      "text/plain": "<Figure size 800x800 with 1 Axes>",
      "image/png": "[encoded data removed]"
     },
     "metadata": {},
     "output_type": "display_data"
    }
   ],
   "source": [
    "img = cv2.imread('six.png', cv2.IMREAD_GRAYSCALE)\n",
    "figure = plt.figure(figsize=(8, 8))\n",
    "plt.imshow(img.squeeze(), cmap=\"gray\")\n",
    "\n",
    "plt.show()"
   ],
   "metadata": {
    "collapsed": false,
    "ExecuteTime": {
     "end_time": "2024-08-27T11:47:44.477771900Z",
     "start_time": "2024-08-27T11:47:44.291394Z"
    }
   }
  },
  {
   "cell_type": "code",
   "execution_count": 154,
   "outputs": [
    {
     "name": "stdout",
     "output_type": "stream",
     "text": [
      "Predicted: 6\n"
     ]
    }
   ],
   "source": [
    "with torch.no_grad():\n",
    "    img = torch.tensor(img, dtype=torch.float32).unsqueeze(0).unsqueeze(0).to(device)\n",
    "    output = model(img)\n",
    "    predicted = torch.argmax(output, 1)\n",
    "    print(f'Predicted: {predicted.item()}')"
   ],
   "metadata": {
    "collapsed": false,
    "ExecuteTime": {
     "end_time": "2024-08-27T11:47:44.492380100Z",
     "start_time": "2024-08-27T11:47:44.480772600Z"
    }
   }
  },
  {
   "cell_type": "code",
   "execution_count": 155,
   "outputs": [
    {
     "data": {
      "text/plain": "<Figure size 800x800 with 1 Axes>",
      "image/png": "[encoded data removed]"
     },
     "metadata": {},
     "output_type": "display_data"
    }
   ],
   "source": [
    "img = cv2.imread('seven.png', cv2.IMREAD_GRAYSCALE)\n",
    "figure = plt.figure(figsize=(8, 8))\n",
    "plt.imshow(img.squeeze(), cmap=\"gray\")\n",
    "\n",
    "plt.show()"
   ],
   "metadata": {
    "collapsed": false,
    "ExecuteTime": {
     "end_time": "2024-08-27T11:47:44.679112700Z",
     "start_time": "2024-08-27T11:47:44.494381600Z"
    }
   }
  },
  {
   "cell_type": "code",
   "execution_count": 156,
   "outputs": [
    {
     "name": "stdout",
     "output_type": "stream",
     "text": [
      "Predicted: 7\n"
     ]
    }
   ],
   "source": [
    "with torch.no_grad():\n",
    "    img = torch.tensor(img, dtype=torch.float32).unsqueeze(0).unsqueeze(0).to(device)\n",
    "    output = model(img)\n",
    "    predicted = torch.argmax(output, 1)\n",
    "    print(f'Predicted: {predicted.item()}')"
   ],
   "metadata": {
    "collapsed": false,
    "ExecuteTime": {
     "end_time": "2024-08-27T11:47:44.694126600Z",
     "start_time": "2024-08-27T11:47:44.684115200Z"
    }
   }
  },
  {
   "cell_type": "code",
   "execution_count": 157,
   "outputs": [
    {
     "data": {
      "text/plain": "<Figure size 800x800 with 1 Axes>",
      "image/png": "[encoded data removed]"
     },
     "metadata": {},
     "output_type": "display_data"
    }
   ],
   "source": [
    "img = cv2.imread('eight.png', cv2.IMREAD_GRAYSCALE)\n",
    "figure = plt.figure(figsize=(8, 8))\n",
    "plt.imshow(img.squeeze(), cmap=\"gray\")\n",
    "\n",
    "plt.show()"
   ],
   "metadata": {
    "collapsed": false,
    "ExecuteTime": {
     "end_time": "2024-08-27T11:47:44.884262900Z",
     "start_time": "2024-08-27T11:47:44.695134600Z"
    }
   }
  },
  {
   "cell_type": "code",
   "execution_count": 158,
   "outputs": [
    {
     "name": "stdout",
     "output_type": "stream",
     "text": [
      "Predicted: 8\n"
     ]
    }
   ],
   "source": [
    "with torch.no_grad():\n",
    "    img = torch.tensor(img, dtype=torch.float32).unsqueeze(0).unsqueeze(0).to(device)\n",
    "    output = model(img)\n",
    "    predicted = torch.argmax(output, 1)\n",
    "    print(f'Predicted: {predicted.item()}')"
   ],
   "metadata": {
    "collapsed": false,
    "ExecuteTime": {
     "end_time": "2024-08-27T11:47:44.899913800Z",
     "start_time": "2024-08-27T11:47:44.887267400Z"
    }
   }
  },
  {
   "cell_type": "code",
   "execution_count": 159,
   "outputs": [
    {
     "data": {
      "text/plain": "<Figure size 800x800 with 1 Axes>",
      "image/png": "[encoded data removed]"
     },
     "metadata": {},
     "output_type": "display_data"
    }
   ],
   "source": [
    "img = cv2.imread('nine.png', cv2.IMREAD_GRAYSCALE)\n",
    "figure = plt.figure(figsize=(8, 8))\n",
    "plt.imshow(img.squeeze(), cmap=\"gray\")\n",
    "\n",
    "plt.show()"
   ],
   "metadata": {
    "collapsed": false,
    "ExecuteTime": {
     "end_time": "2024-08-27T11:47:45.079903400Z",
     "start_time": "2024-08-27T11:47:44.898907200Z"
    }
   }
  },
  {
   "cell_type": "code",
   "execution_count": 160,
   "outputs": [
    {
     "name": "stdout",
     "output_type": "stream",
     "text": [
      "Predicted: 3\n"
     ]
    }
   ],
   "source": [
    "with torch.no_grad():\n",
    "    img = torch.tensor(img, dtype=torch.float32).unsqueeze(0).unsqueeze(0).to(device)\n",
    "    output = model(img)\n",
    "    predicted = torch.argmax(output, 1)\n",
    "    print(f'Predicted: {predicted.item()}')"
   ],
   "metadata": {
    "collapsed": false,
    "ExecuteTime": {
     "end_time": "2024-08-27T11:47:45.095374200Z",
     "start_time": "2024-08-27T11:47:45.084905700Z"
    }
   }
  },
  {
   "cell_type": "code",
   "execution_count": 161,
   "outputs": [
    {
     "data": {
      "text/plain": "<Figure size 800x800 with 1 Axes>",
      "image/png": "[encoded data removed]"
     },
     "metadata": {},
     "output_type": "display_data"
    }
   ],
   "source": [
    "img = cv2.imread('zero.png', cv2.IMREAD_GRAYSCALE)\n",
    "figure = plt.figure(figsize=(8, 8))\n",
    "plt.imshow(img.squeeze(), cmap=\"gray\")\n",
    "\n",
    "plt.show()"
   ],
   "metadata": {
    "collapsed": false,
    "ExecuteTime": {
     "end_time": "2024-08-27T11:47:45.281975Z",
     "start_time": "2024-08-27T11:47:45.099374600Z"
    }
   }
  },
  {
   "cell_type": "code",
   "execution_count": 162,
   "outputs": [
    {
     "name": "stdout",
     "output_type": "stream",
     "text": [
      "Predicted: 0\n"
     ]
    }
   ],
   "source": [
    "with torch.no_grad():\n",
    "    img = torch.tensor(img, dtype=torch.float32).unsqueeze(0).unsqueeze(0).to(device)\n",
    "    output = model(img)\n",
    "    predicted = torch.argmax(output, 1)\n",
    "    print(f'Predicted: {predicted.item()}')"
   ],
   "metadata": {
    "collapsed": false,
    "ExecuteTime": {
     "end_time": "2024-08-27T11:47:45.295752Z",
     "start_time": "2024-08-27T11:47:45.285975900Z"
    }
   }
  },
  {
   "cell_type": "code",
   "execution_count": null,
   "outputs": [],
   "source": [
    "#9 из 10 изображений распознались верно"
   ],
   "metadata": {
    "collapsed": false
   }
  },
  {
   "cell_type": "markdown",
   "metadata": {},
   "source": [
    "#### Задание 3 (факультативное).\n",
    "Построить свёрточную сеть по одной из рассмотренных архитектур (AlexNet, VGG, Inception, ResNet) и обучить её распознаванию MNIST."
   ]
  },
  {
   "cell_type": "markdown",
   "metadata": {},
   "source": [
    "#### Задание 4 (факультативное).\n",
    "Прочитать параграф 5.3 в учебнике С. Николенко и др. (стр. 199–206) и воспроизвести рассмотренные там нейронные сети на TensorFlow и Keras."
   ]
  }
 ],
 "metadata": {
  "kernelspec": {
   "display_name": "Python 3 (ipykernel)",
   "language": "python",
   "name": "python3"
  },
  "language_info": {
   "codemirror_mode": {
    "name": "ipython",
    "version": 3
   },
   "file_extension": ".py",
   "mimetype": "text/x-python",
   "name": "python",
   "nbconvert_exporter": "python",
   "pygments_lexer": "ipython3",
   "version": "3.9.12"
  }
 },
 "nbformat": 4,
 "nbformat_minor": 4
}
